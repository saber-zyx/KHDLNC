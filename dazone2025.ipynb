{
 "cells": [
  {
   "cell_type": "code",
   "execution_count": 2,
   "metadata": {
    "_cell_guid": "b1076dfc-b9ad-4769-8c92-a6c4dae69d19",
    "_uuid": "8f2839f25d086af736a60e9eeb907d3b93b6e0e5",
    "execution": {
     "execution_failed": "2025-05-26T12:46:42.653Z"
    },
    "trusted": true
   },
   "outputs": [],
   "source": [
    "import pandas as pd\n",
    "import numpy as np\n",
    "import seaborn as sns\n",
    "import matplotlib.pyplot as plt\n",
    "import unicodedata"
   ]
  },
  {
   "cell_type": "code",
   "execution_count": 3,
   "metadata": {
    "execution": {
     "execution_failed": "2025-05-26T12:46:42.653Z"
    },
    "trusted": true
   },
   "outputs": [],
   "source": [
    "import warnings\n",
    "warnings.filterwarnings(\"ignore\")"
   ]
  },
  {
   "cell_type": "markdown",
   "metadata": {},
   "source": [
    "# Data Processing"
   ]
  },
  {
   "cell_type": "code",
   "execution_count": 4,
   "metadata": {
    "execution": {
     "execution_failed": "2025-05-26T12:46:42.654Z"
    },
    "trusted": true
   },
   "outputs": [],
   "source": [
    "user_info = pd.read_csv('user_info.csv', encoding='utf-8')\n",
    "user_log = pd.read_csv('user_log.csv', encoding='utf-8')"
   ]
  },
  {
   "cell_type": "code",
   "execution_count": 5,
   "metadata": {
    "execution": {
     "execution_failed": "2025-05-26T12:46:42.654Z"
    },
    "trusted": true
   },
   "outputs": [
    {
     "data": {
      "text/html": [
       "<div>\n",
       "<style scoped>\n",
       "    .dataframe tbody tr th:only-of-type {\n",
       "        vertical-align: middle;\n",
       "    }\n",
       "\n",
       "    .dataframe tbody tr th {\n",
       "        vertical-align: top;\n",
       "    }\n",
       "\n",
       "    .dataframe thead th {\n",
       "        text-align: right;\n",
       "    }\n",
       "</style>\n",
       "<table border=\"1\" class=\"dataframe\">\n",
       "  <thead>\n",
       "    <tr style=\"text-align: right;\">\n",
       "      <th></th>\n",
       "      <th>user_id</th>\n",
       "      <th>age</th>\n",
       "      <th>sex</th>\n",
       "      <th>phone</th>\n",
       "      <th>job</th>\n",
       "      <th>carrier</th>\n",
       "      <th>marital_status</th>\n",
       "    </tr>\n",
       "  </thead>\n",
       "  <tbody>\n",
       "    <tr>\n",
       "      <th>0</th>\n",
       "      <td>376517</td>\n",
       "      <td>44.0</td>\n",
       "      <td>gentle</td>\n",
       "      <td>******6654</td>\n",
       "      <td>Thực tập sinh giáo dục</td>\n",
       "      <td>other</td>\n",
       "      <td>Married</td>\n",
       "    </tr>\n",
       "    <tr>\n",
       "      <th>1</th>\n",
       "      <td>234512</td>\n",
       "      <td>39.0</td>\n",
       "      <td>lady</td>\n",
       "      <td>NaN</td>\n",
       "      <td>NaN</td>\n",
       "      <td>vietnamobile</td>\n",
       "      <td>Married</td>\n",
       "    </tr>\n",
       "    <tr>\n",
       "      <th>2</th>\n",
       "      <td>344532</td>\n",
       "      <td>39.0</td>\n",
       "      <td>she</td>\n",
       "      <td>******6296</td>\n",
       "      <td>DevOps Engineer</td>\n",
       "      <td>other</td>\n",
       "      <td>cưới</td>\n",
       "    </tr>\n",
       "    <tr>\n",
       "      <th>3</th>\n",
       "      <td>186135</td>\n",
       "      <td>37.0</td>\n",
       "      <td>she</td>\n",
       "      <td>******1502</td>\n",
       "      <td>Thực tập sinh giáo dục</td>\n",
       "      <td>vietnamobile</td>\n",
       "      <td>cưới</td>\n",
       "    </tr>\n",
       "    <tr>\n",
       "      <th>4</th>\n",
       "      <td>30230</td>\n",
       "      <td>38.0</td>\n",
       "      <td>female</td>\n",
       "      <td>******4966</td>\n",
       "      <td>DevOps Engineer</td>\n",
       "      <td>viettel</td>\n",
       "      <td>Married</td>\n",
       "    </tr>\n",
       "    <tr>\n",
       "      <th>...</th>\n",
       "      <td>...</td>\n",
       "      <td>...</td>\n",
       "      <td>...</td>\n",
       "      <td>...</td>\n",
       "      <td>...</td>\n",
       "      <td>...</td>\n",
       "      <td>...</td>\n",
       "    </tr>\n",
       "    <tr>\n",
       "      <th>424165</th>\n",
       "      <td>395814</td>\n",
       "      <td>26.0</td>\n",
       "      <td>gеntle</td>\n",
       "      <td>******8563</td>\n",
       "      <td>Kiến trúc sư phần mềm</td>\n",
       "      <td>vinaphone</td>\n",
       "      <td>Married</td>\n",
       "    </tr>\n",
       "    <tr>\n",
       "      <th>424166</th>\n",
       "      <td>245950</td>\n",
       "      <td>NaN</td>\n",
       "      <td>male</td>\n",
       "      <td>*****3449</td>\n",
       "      <td>Tư vấn khách hàng</td>\n",
       "      <td>other</td>\n",
       "      <td>Divorced</td>\n",
       "    </tr>\n",
       "    <tr>\n",
       "      <th>424167</th>\n",
       "      <td>208016</td>\n",
       "      <td>NaN</td>\n",
       "      <td>unknown</td>\n",
       "      <td>******7187</td>\n",
       "      <td>Trưởng phòng kinh doanh</td>\n",
       "      <td>viettel</td>\n",
       "      <td>Married</td>\n",
       "    </tr>\n",
       "    <tr>\n",
       "      <th>424168</th>\n",
       "      <td>272535</td>\n",
       "      <td>45.0</td>\n",
       "      <td>M</td>\n",
       "      <td>*******0404</td>\n",
       "      <td>Dược sĩ</td>\n",
       "      <td>vinaphone</td>\n",
       "      <td>cưới</td>\n",
       "    </tr>\n",
       "    <tr>\n",
       "      <th>424169</th>\n",
       "      <td>18031</td>\n",
       "      <td>26.0</td>\n",
       "      <td>he</td>\n",
       "      <td>*****3660</td>\n",
       "      <td>Dược sĩ</td>\n",
       "      <td>vinaphone</td>\n",
       "      <td>Single</td>\n",
       "    </tr>\n",
       "  </tbody>\n",
       "</table>\n",
       "<p>424170 rows × 7 columns</p>\n",
       "</div>"
      ],
      "text/plain": [
       "        user_id   age      sex        phone                      job  \\\n",
       "0        376517  44.0   gentle   ******6654   Thực tập sinh giáo dục   \n",
       "1        234512  39.0     lady          NaN                      NaN   \n",
       "2        344532  39.0      she   ******6296          DevOps Engineer   \n",
       "3        186135  37.0      she   ******1502   Thực tập sinh giáo dục   \n",
       "4         30230  38.0   female   ******4966          DevOps Engineer   \n",
       "...         ...   ...      ...          ...                      ...   \n",
       "424165   395814  26.0   gеntle   ******8563    Kiến trúc sư phần mềm   \n",
       "424166   245950   NaN     male    *****3449        Tư vấn khách hàng   \n",
       "424167   208016   NaN  unknown   ******7187  Trưởng phòng kinh doanh   \n",
       "424168   272535  45.0        M  *******0404                  Dược sĩ   \n",
       "424169    18031  26.0       he    *****3660                  Dược sĩ   \n",
       "\n",
       "             carrier marital_status  \n",
       "0              other        Married  \n",
       "1       vietnamobile        Married  \n",
       "2              other           cưới  \n",
       "3       vietnamobile           cưới  \n",
       "4            viettel        Married  \n",
       "...              ...            ...  \n",
       "424165     vinaphone        Married  \n",
       "424166         other       Divorced  \n",
       "424167       viettel        Married  \n",
       "424168     vinaphone           cưới  \n",
       "424169     vinaphone         Single  \n",
       "\n",
       "[424170 rows x 7 columns]"
      ]
     },
     "execution_count": 5,
     "metadata": {},
     "output_type": "execute_result"
    }
   ],
   "source": [
    "user_info"
   ]
  },
  {
   "cell_type": "code",
   "execution_count": 6,
   "metadata": {
    "execution": {
     "execution_failed": "2025-05-26T12:46:42.654Z"
    },
    "trusted": true
   },
   "outputs": [
    {
     "data": {
      "text/plain": [
       "array(['gentle', 'lady', 'she', 'female', 'girl', 'male', 'M', nan, 'boy',\n",
       "       'woman', 'F', 'he', 'men', 'unknown', 'other', 'mаle', 'mеn', 'hе',\n",
       "       'malе', 'lаdy', 'wοman', 'fеmale', 'femаle', 'bοy', 'shе', 'gіrl',\n",
       "       'womаn', 'gеntle', 'սnknown', 'femalе', 'gentlе', 'othеr', 'οther',\n",
       "       'unknοwn', 'nսll', 'femаlе', 'fеmalе', 'wοmаn', 'mаlе', 'fеmаle',\n",
       "       'gеntlе'], dtype=object)"
      ]
     },
     "execution_count": 6,
     "metadata": {},
     "output_type": "execute_result"
    }
   ],
   "source": [
    "user_info['sex'].unique()"
   ]
  },
  {
   "cell_type": "code",
   "execution_count": 7,
   "metadata": {
    "execution": {
     "execution_failed": "2025-05-26T12:46:42.654Z"
    },
    "trusted": true
   },
   "outputs": [],
   "source": [
    "#Remove leading and trailing whitespace\n",
    "user_info['sex'] = user_info['sex'].astype(str).str.strip()\n",
    "\n",
    "# Normalize Unicode to the canonical decomposed form (NFD).\n",
    "user_info['sex'] = user_info['sex'].apply(lambda x: unicodedata.normalize('NFKD', x))\n",
    "\n",
    "# Remove non-ASCII characters.\n",
    "user_info['sex'] = user_info['sex'].apply(lambda x: x.encode('ascii', 'ignore').decode())\n",
    "\n",
    "# Convert to lowercase.\n",
    "user_info['sex'] = user_info['sex'].str.lower()"
   ]
  },
  {
   "cell_type": "code",
   "execution_count": 8,
   "metadata": {
    "execution": {
     "execution_failed": "2025-05-26T12:46:42.654Z"
    },
    "trusted": true
   },
   "outputs": [
    {
     "data": {
      "text/plain": [
       "array(['gentle', 'lady', 'she', 'female', 'girl', 'male', 'm', 'nan',\n",
       "       'boy', 'woman', 'f', 'he', 'men', 'unknown', 'other', 'mle', 'mn',\n",
       "       'h', 'mal', 'ldy', 'wman', 'fmale', 'femle', 'by', 'sh', 'grl',\n",
       "       'womn', 'gntle', 'nknown', 'femal', 'gentl', 'othr', 'ther',\n",
       "       'unknwn', 'nll', 'feml', 'fmal', 'wmn', 'ml', 'fmle', 'gntl'],\n",
       "      dtype=object)"
      ]
     },
     "execution_count": 8,
     "metadata": {},
     "output_type": "execute_result"
    }
   ],
   "source": [
    "user_info['sex'].unique()"
   ]
  },
  {
   "cell_type": "code",
   "execution_count": null,
   "metadata": {
    "execution": {
     "execution_failed": "2025-05-26T12:46:42.654Z"
    },
    "trusted": true
   },
   "outputs": [],
   "source": [
    "\n",
    "user_info.loc[user_info['sex'].isin(['lady', 'she', 'female', 'girl','woman', 'f','ldy', 'wman', 'fmale', 'femle', 'sh', 'grl','womn','femal', 'feml', 'fmal', 'wmn', 'fmle']), 'sex'] = 'F'\n",
    "user_info.loc[user_info['sex'].isin(['gentle','male', 'm','boy','he', 'men', 'mle', 'mn','h', 'mal','by','gntle', 'gentl','ml','gntl']), 'sex'] = 'M'\n",
    "user_info.loc[user_info['sex'].isin(['other','othr', 'ther']), 'sex'] = 'other'\n",
    "user_info.loc[user_info['sex'].isin(['unknown','nknown', 'unknwn', 'nll' ,'nan']), 'sex'] = np.nan"
   ]
  },
  {
   "cell_type": "markdown",
   "metadata": {},
   "source": [
    "Group into three main categories: M, F, and other."
   ]
  },
  {
   "cell_type": "code",
   "execution_count": 10,
   "metadata": {
    "execution": {
     "execution_failed": "2025-05-26T12:46:42.654Z"
    },
    "trusted": true
   },
   "outputs": [
    {
     "data": {
      "text/plain": [
       "array(['Married', 'cưới', 'Single', 'ly hôn', 'Divorced', nan,\n",
       "       'Unmarried', 'độc thân'], dtype=object)"
      ]
     },
     "execution_count": 10,
     "metadata": {},
     "output_type": "execute_result"
    }
   ],
   "source": [
    "user_info['marital_status'].unique()"
   ]
  },
  {
   "cell_type": "code",
   "execution_count": 11,
   "metadata": {
    "execution": {
     "execution_failed": "2025-05-26T12:46:42.654Z"
    },
    "trusted": true
   },
   "outputs": [],
   "source": [
    "user_info.loc[user_info['marital_status'].isin(['Married', 'cưới',]), 'marital_status'] = 'Married'\n",
    "user_info.loc[user_info['marital_status'].isin(['Single', 'Unmarried','độc thân']), 'marital_status'] = 'Single'\n",
    "user_info.loc[user_info['marital_status'].isin(['ly hôn','Divorced']), 'marital_status'] = 'Divorced'\n",
    "user_info.loc[user_info['marital_status'].isin(['nan']), 'marital_status'] = np.nan"
   ]
  },
  {
   "cell_type": "markdown",
   "metadata": {},
   "source": [
    "Group into three uniform categories: Married, Single, Divorced."
   ]
  },
  {
   "cell_type": "code",
   "execution_count": 12,
   "metadata": {
    "execution": {
     "execution_failed": "2025-05-26T12:46:42.654Z"
    },
    "trusted": true
   },
   "outputs": [
    {
     "data": {
      "text/plain": [
       "user_id               0\n",
       "age               95367\n",
       "sex               11222\n",
       "phone             21208\n",
       "job               21208\n",
       "carrier           21208\n",
       "marital_status      357\n",
       "dtype: int64"
      ]
     },
     "execution_count": 12,
     "metadata": {},
     "output_type": "execute_result"
    }
   ],
   "source": [
    "user_info.isna().sum()"
   ]
  },
  {
   "cell_type": "code",
   "execution_count": 13,
   "metadata": {
    "execution": {
     "execution_failed": "2025-05-26T12:46:42.654Z"
    },
    "trusted": true
   },
   "outputs": [],
   "source": [
    "user_info = user_info.drop(columns=['phone'])"
   ]
  },
  {
   "cell_type": "markdown",
   "metadata": {},
   "source": [
    "Phone (MNAR): The user may intentionally withhold their phone number to avoid promotional calls that cause inconvenience. Additionally, the phone number does not contribute to deriving insights from the dataset => drop the phone column to optimize memory usage."
   ]
  },
  {
   "cell_type": "code",
   "execution_count": 14,
   "metadata": {
    "execution": {
     "execution_failed": "2025-05-26T12:46:42.654Z"
    },
    "trusted": true
   },
   "outputs": [],
   "source": [
    "user_info['marital_status'].fillna(user_info['marital_status'].mode()[0], inplace=True)"
   ]
  },
  {
   "cell_type": "code",
   "execution_count": 15,
   "metadata": {
    "execution": {
     "execution_failed": "2025-05-26T12:46:42.655Z"
    },
    "trusted": true
   },
   "outputs": [],
   "source": [
    "probs = user_info['sex'].value_counts(normalize=True)\n",
    "n_missing = user_info['sex'].isna().sum()\n",
    "user_info.loc[user_info['sex'].isna(), 'sex'] = np.random.choice(probs.index, size=n_missing, p=probs.values)"
   ]
  },
  {
   "cell_type": "code",
   "execution_count": 16,
   "metadata": {
    "execution": {
     "execution_failed": "2025-05-26T12:46:42.655Z"
    },
    "trusted": true
   },
   "outputs": [],
   "source": [
    "user_info['job'].fillna('unknown', inplace=True)"
   ]
  },
  {
   "cell_type": "code",
   "execution_count": 17,
   "metadata": {
    "execution": {
     "execution_failed": "2025-05-26T12:46:42.655Z"
    },
    "trusted": true
   },
   "outputs": [
    {
     "data": {
      "text/plain": [
       "carrier\n",
       "other           80805\n",
       "mobiphone       80750\n",
       "vinaphone       80728\n",
       "viettel         80428\n",
       "vietnamobile    80251\n",
       "Name: count, dtype: int64"
      ]
     },
     "execution_count": 17,
     "metadata": {},
     "output_type": "execute_result"
    }
   ],
   "source": [
    "user_info['carrier'].value_counts()"
   ]
  },
  {
   "cell_type": "code",
   "execution_count": 18,
   "metadata": {
    "execution": {
     "execution_failed": "2025-05-26T12:46:42.655Z"
    },
    "trusted": true
   },
   "outputs": [],
   "source": [
    "probs = user_info['carrier'].value_counts(normalize=True)\n",
    "n_missing = user_info['carrier'].isna().sum()\n",
    "user_info.loc[user_info['carrier'].isna(), 'carrier'] = np.random.choice(probs.index, size=n_missing, p=probs.values)"
   ]
  },
  {
   "cell_type": "code",
   "execution_count": 19,
   "metadata": {
    "execution": {
     "execution_failed": "2025-05-26T12:46:42.655Z"
    },
    "trusted": true
   },
   "outputs": [
    {
     "data": {
      "text/plain": [
       "user_id               0\n",
       "age               95367\n",
       "sex                   0\n",
       "job                   0\n",
       "carrier               0\n",
       "marital_status        0\n",
       "dtype: int64"
      ]
     },
     "execution_count": 19,
     "metadata": {},
     "output_type": "execute_result"
    }
   ],
   "source": [
    "user_info.isna().sum()"
   ]
  },
  {
   "cell_type": "code",
   "execution_count": 20,
   "metadata": {
    "execution": {
     "execution_failed": "2025-05-26T12:46:42.655Z"
    },
    "trusted": true
   },
   "outputs": [
    {
     "name": "stdout",
     "output_type": "stream",
     "text": [
      "Giá trị nhỏ nhất của age: -1.0\n",
      "Giá trị lớn nhất của age: 999.0\n"
     ]
    }
   ],
   "source": [
    "min_age = user_info['age'].min()\n",
    "max_age = user_info['age'].max()\n",
    "\n",
    "print(f\"Giá trị nhỏ nhất của age: {min_age}\")\n",
    "print(f\"Giá trị lớn nhất của age: {max_age}\")\n"
   ]
  },
  {
   "cell_type": "code",
   "execution_count": 21,
   "metadata": {
    "execution": {
     "execution_failed": "2025-05-26T12:46:42.655Z"
    },
    "trusted": true
   },
   "outputs": [],
   "source": [
    "user_info.loc[(user_info['age'] > 100) | (user_info['age'] < 1) , 'age'] = np.nan"
   ]
  },
  {
   "cell_type": "code",
   "execution_count": 22,
   "metadata": {
    "execution": {
     "execution_failed": "2025-05-26T12:46:42.655Z"
    },
    "trusted": true
   },
   "outputs": [
    {
     "data": {
      "text/plain": [
       "user_id               0\n",
       "age               96775\n",
       "sex                   0\n",
       "job                   0\n",
       "carrier               0\n",
       "marital_status        0\n",
       "dtype: int64"
      ]
     },
     "execution_count": 22,
     "metadata": {},
     "output_type": "execute_result"
    }
   ],
   "source": [
    "user_info.isna().sum()"
   ]
  },
  {
   "cell_type": "markdown",
   "metadata": {},
   "source": [
    "- Calculate the first (Q1) and third (Q3) quartiles\n",
    "- Compute the lower and upper bounds to detect outliers\n",
    "- Print the threshold values\n",
    "- Filter out the outlier values\n",
    "- Print the number and values of outliers\n",
    "\n"
   ]
  },
  {
   "cell_type": "code",
   "execution_count": null,
   "metadata": {
    "execution": {
     "execution_failed": "2025-05-26T12:46:42.655Z"
    },
    "trusted": true
   },
   "outputs": [
    {
     "name": "stdout",
     "output_type": "stream",
     "text": [
      "Ngưỡng dưới (lower_bound): 12.5\n",
      "Ngưỡng trên (upper_bound): 48.5\n",
      "Số lượng outliers: 9951\n",
      "         age\n",
      "7       59.0\n",
      "16      49.0\n",
      "18      49.0\n",
      "41      57.0\n",
      "47      49.0\n",
      "...      ...\n",
      "423331  58.0\n",
      "423383  53.0\n",
      "423497  51.0\n",
      "423718  55.0\n",
      "423916  56.0\n",
      "\n",
      "[9951 rows x 1 columns]\n"
     ]
    }
   ],
   "source": [
    "\n",
    "Q1 = user_info['age'].quantile(0.25)\n",
    "Q3 = user_info['age'].quantile(0.75)\n",
    "IQR = Q3 - Q1\n",
    "\n",
    "\n",
    "lower_bound = Q1 - 1.5 * IQR\n",
    "upper_bound = Q3 + 1.5 * IQR\n",
    "\n",
    "print(f\"lower_bound: {lower_bound}\")\n",
    "print(f\"upper_bound: {upper_bound}\")\n",
    "\n",
    "outliers = user_info[(user_info['age'] < lower_bound) | (user_info['age'] > upper_bound)]\n",
    "\n",
    "print(f\"Sum of outliers: {len(outliers)}\")\n",
    "print(outliers[['age']])\n"
   ]
  },
  {
   "cell_type": "code",
   "execution_count": null,
   "metadata": {
    "execution": {
     "execution_failed": "2025-05-26T12:46:42.655Z"
    },
    "trusted": true
   },
   "outputs": [],
   "source": [
    "import numpy as np\n",
    "\n",
    "values = user_info['age'].dropna().values\n",
    "probs = user_info['age'].value_counts(normalize=True)\n",
    "\n",
    "user_info.loc[user_info['age'].isna(), 'age'] = np.random.choice(\n",
    "    probs.index, \n",
    "    size=user_info['age'].isna().sum(), \n",
    "    p=probs.values\n",
    ")\n"
   ]
  },
  {
   "cell_type": "markdown",
   "metadata": {},
   "source": [
    "- Calculate the quartiles\n",
    "\n",
    "- Create bins based on the quartiles\n",
    "\n",
    "- Classify into age groups"
   ]
  },
  {
   "cell_type": "code",
   "execution_count": null,
   "metadata": {
    "execution": {
     "execution_failed": "2025-05-26T12:46:42.655Z"
    },
    "trusted": true
   },
   "outputs": [
    {
     "name": "stdout",
     "output_type": "stream",
     "text": [
      "    age age_range\n",
      "0  44.0     36-77\n",
      "1  39.0     36-77\n",
      "2  39.0     36-77\n",
      "3  37.0     36-77\n",
      "4  38.0     36-77\n",
      "age_range\n",
      "10-26    129632\n",
      "27-30    102713\n",
      "31-35     92983\n",
      "36-77     98842\n",
      "Name: count, dtype: int64\n"
     ]
    }
   ],
   "source": [
    "q1 = user_info['age'].quantile(0.25)\n",
    "q2 = user_info['age'].quantile(0.50)\n",
    "q3 = user_info['age'].quantile(0.75)\n",
    "min_age = user_info['age'].min()\n",
    "max_age = user_info['age'].max()\n",
    "\n",
    "bins = [min_age - 1, q1, q2, q3, max_age]\n",
    "labels = [\n",
    "    f\"{int(min_age)}-{int(q1)}\",\n",
    "    f\"{int(q1+1)}-{int(q2)}\",\n",
    "    f\"{int(q2+1)}-{int(q3)}\",\n",
    "    f\"{int(q3+1)}-{int(max_age)}\"\n",
    "]\n",
    "\n",
    "user_info['age_range'] = pd.cut(user_info['age'], bins=bins, labels=labels, include_lowest=True)\n",
    "\n",
    "print(user_info[['age', 'age_range']].head())\n",
    "print(user_info['age_range'].value_counts().sort_index())\n"
   ]
  },
  {
   "cell_type": "code",
   "execution_count": null,
   "metadata": {
    "execution": {
     "execution_failed": "2025-05-26T12:46:42.655Z"
    },
    "trusted": true
   },
   "outputs": [],
   "source": [
    "bins = [-np.inf, 17, 26, 30, 35, 60, np.inf]\n",
    "labels = ['<18', '18-26', '27-30', '31-35', '36-60', '60+']\n",
    "\n",
    "user_info['age_range'] = pd.cut(user_info['age'], bins=bins, labels=labels)"
   ]
  },
  {
   "cell_type": "code",
   "execution_count": 27,
   "metadata": {
    "execution": {
     "execution_failed": "2025-05-26T12:46:42.655Z"
    },
    "trusted": true
   },
   "outputs": [
    {
     "name": "stdout",
     "output_type": "stream",
     "text": [
      "age_range\n",
      "18-26    129596\n",
      "27-30    102713\n",
      "36-60     97475\n",
      "31-35     92983\n",
      "60+        1367\n",
      "<18          36\n",
      "Name: count, dtype: int64\n"
     ]
    }
   ],
   "source": [
    "counts = user_info['age_range'].value_counts()\n",
    "print(counts)"
   ]
  },
  {
   "cell_type": "code",
   "execution_count": 28,
   "metadata": {
    "execution": {
     "execution_failed": "2025-05-26T12:46:42.655Z"
    },
    "trusted": true
   },
   "outputs": [],
   "source": [
    "user_info.drop(columns='age', inplace=True)"
   ]
  },
  {
   "cell_type": "code",
   "execution_count": 29,
   "metadata": {
    "execution": {
     "execution_failed": "2025-05-26T12:46:42.656Z"
    },
    "trusted": true
   },
   "outputs": [
    {
     "data": {
      "text/html": [
       "<div>\n",
       "<style scoped>\n",
       "    .dataframe tbody tr th:only-of-type {\n",
       "        vertical-align: middle;\n",
       "    }\n",
       "\n",
       "    .dataframe tbody tr th {\n",
       "        vertical-align: top;\n",
       "    }\n",
       "\n",
       "    .dataframe thead th {\n",
       "        text-align: right;\n",
       "    }\n",
       "</style>\n",
       "<table border=\"1\" class=\"dataframe\">\n",
       "  <thead>\n",
       "    <tr style=\"text-align: right;\">\n",
       "      <th></th>\n",
       "      <th>user_id</th>\n",
       "      <th>sex</th>\n",
       "      <th>job</th>\n",
       "      <th>carrier</th>\n",
       "      <th>marital_status</th>\n",
       "      <th>age_range</th>\n",
       "    </tr>\n",
       "  </thead>\n",
       "  <tbody>\n",
       "    <tr>\n",
       "      <th>0</th>\n",
       "      <td>376517</td>\n",
       "      <td>M</td>\n",
       "      <td>Thực tập sinh giáo dục</td>\n",
       "      <td>other</td>\n",
       "      <td>Married</td>\n",
       "      <td>36-60</td>\n",
       "    </tr>\n",
       "    <tr>\n",
       "      <th>1</th>\n",
       "      <td>234512</td>\n",
       "      <td>F</td>\n",
       "      <td>unknown</td>\n",
       "      <td>vietnamobile</td>\n",
       "      <td>Married</td>\n",
       "      <td>36-60</td>\n",
       "    </tr>\n",
       "    <tr>\n",
       "      <th>2</th>\n",
       "      <td>344532</td>\n",
       "      <td>F</td>\n",
       "      <td>DevOps Engineer</td>\n",
       "      <td>other</td>\n",
       "      <td>Married</td>\n",
       "      <td>36-60</td>\n",
       "    </tr>\n",
       "    <tr>\n",
       "      <th>3</th>\n",
       "      <td>186135</td>\n",
       "      <td>F</td>\n",
       "      <td>Thực tập sinh giáo dục</td>\n",
       "      <td>vietnamobile</td>\n",
       "      <td>Married</td>\n",
       "      <td>36-60</td>\n",
       "    </tr>\n",
       "    <tr>\n",
       "      <th>4</th>\n",
       "      <td>30230</td>\n",
       "      <td>F</td>\n",
       "      <td>DevOps Engineer</td>\n",
       "      <td>viettel</td>\n",
       "      <td>Married</td>\n",
       "      <td>36-60</td>\n",
       "    </tr>\n",
       "    <tr>\n",
       "      <th>...</th>\n",
       "      <td>...</td>\n",
       "      <td>...</td>\n",
       "      <td>...</td>\n",
       "      <td>...</td>\n",
       "      <td>...</td>\n",
       "      <td>...</td>\n",
       "    </tr>\n",
       "    <tr>\n",
       "      <th>424165</th>\n",
       "      <td>395814</td>\n",
       "      <td>M</td>\n",
       "      <td>Kiến trúc sư phần mềm</td>\n",
       "      <td>vinaphone</td>\n",
       "      <td>Married</td>\n",
       "      <td>18-26</td>\n",
       "    </tr>\n",
       "    <tr>\n",
       "      <th>424166</th>\n",
       "      <td>245950</td>\n",
       "      <td>M</td>\n",
       "      <td>Tư vấn khách hàng</td>\n",
       "      <td>other</td>\n",
       "      <td>Divorced</td>\n",
       "      <td>27-30</td>\n",
       "    </tr>\n",
       "    <tr>\n",
       "      <th>424167</th>\n",
       "      <td>208016</td>\n",
       "      <td>F</td>\n",
       "      <td>Trưởng phòng kinh doanh</td>\n",
       "      <td>viettel</td>\n",
       "      <td>Married</td>\n",
       "      <td>36-60</td>\n",
       "    </tr>\n",
       "    <tr>\n",
       "      <th>424168</th>\n",
       "      <td>272535</td>\n",
       "      <td>M</td>\n",
       "      <td>Dược sĩ</td>\n",
       "      <td>vinaphone</td>\n",
       "      <td>Married</td>\n",
       "      <td>36-60</td>\n",
       "    </tr>\n",
       "    <tr>\n",
       "      <th>424169</th>\n",
       "      <td>18031</td>\n",
       "      <td>M</td>\n",
       "      <td>Dược sĩ</td>\n",
       "      <td>vinaphone</td>\n",
       "      <td>Single</td>\n",
       "      <td>18-26</td>\n",
       "    </tr>\n",
       "  </tbody>\n",
       "</table>\n",
       "<p>424170 rows × 6 columns</p>\n",
       "</div>"
      ],
      "text/plain": [
       "        user_id sex                      job       carrier marital_status  \\\n",
       "0        376517   M   Thực tập sinh giáo dục         other        Married   \n",
       "1        234512   F                  unknown  vietnamobile        Married   \n",
       "2        344532   F          DevOps Engineer         other        Married   \n",
       "3        186135   F   Thực tập sinh giáo dục  vietnamobile        Married   \n",
       "4         30230   F          DevOps Engineer       viettel        Married   \n",
       "...         ...  ..                      ...           ...            ...   \n",
       "424165   395814   M    Kiến trúc sư phần mềm     vinaphone        Married   \n",
       "424166   245950   M        Tư vấn khách hàng         other       Divorced   \n",
       "424167   208016   F  Trưởng phòng kinh doanh       viettel        Married   \n",
       "424168   272535   M                  Dược sĩ     vinaphone        Married   \n",
       "424169    18031   M                  Dược sĩ     vinaphone         Single   \n",
       "\n",
       "       age_range  \n",
       "0          36-60  \n",
       "1          36-60  \n",
       "2          36-60  \n",
       "3          36-60  \n",
       "4          36-60  \n",
       "...          ...  \n",
       "424165     18-26  \n",
       "424166     27-30  \n",
       "424167     36-60  \n",
       "424168     36-60  \n",
       "424169     18-26  \n",
       "\n",
       "[424170 rows x 6 columns]"
      ]
     },
     "execution_count": 29,
     "metadata": {},
     "output_type": "execute_result"
    }
   ],
   "source": [
    "user_info"
   ]
  },
  {
   "cell_type": "code",
   "execution_count": 30,
   "metadata": {
    "execution": {
     "execution_failed": "2025-05-26T12:46:42.656Z"
    },
    "trusted": true
   },
   "outputs": [
    {
     "data": {
      "text/plain": [
       "dtype('O')"
      ]
     },
     "execution_count": 30,
     "metadata": {},
     "output_type": "execute_result"
    }
   ],
   "source": [
    "user_log['datetime'].dtype"
   ]
  },
  {
   "cell_type": "markdown",
   "metadata": {},
   "source": [
    "Change the date format"
   ]
  },
  {
   "cell_type": "code",
   "execution_count": 31,
   "metadata": {
    "execution": {
     "execution_failed": "2025-05-26T12:46:42.656Z"
    },
    "trusted": true
   },
   "outputs": [
    {
     "data": {
      "text/plain": [
       "dtype('<M8[ns]')"
      ]
     },
     "execution_count": 31,
     "metadata": {},
     "output_type": "execute_result"
    }
   ],
   "source": [
    "user_log['datetime'] = pd.to_datetime(user_log['datetime'])\n",
    "user_log['datetime'].dtype\n"
   ]
  },
  {
   "cell_type": "code",
   "execution_count": 32,
   "metadata": {
    "execution": {
     "execution_failed": "2025-05-26T12:46:42.656Z"
    },
    "trusted": true
   },
   "outputs": [
    {
     "data": {
      "text/html": [
       "<div>\n",
       "<style scoped>\n",
       "    .dataframe tbody tr th:only-of-type {\n",
       "        vertical-align: middle;\n",
       "    }\n",
       "\n",
       "    .dataframe tbody tr th {\n",
       "        vertical-align: top;\n",
       "    }\n",
       "\n",
       "    .dataframe thead th {\n",
       "        text-align: right;\n",
       "    }\n",
       "</style>\n",
       "<table border=\"1\" class=\"dataframe\">\n",
       "  <thead>\n",
       "    <tr style=\"text-align: right;\">\n",
       "      <th></th>\n",
       "      <th>user_id</th>\n",
       "      <th>item_id</th>\n",
       "      <th>cat_id</th>\n",
       "      <th>brand_id</th>\n",
       "      <th>merchant_id</th>\n",
       "      <th>action</th>\n",
       "      <th>datetime</th>\n",
       "      <th>Day_of_Week</th>\n",
       "    </tr>\n",
       "  </thead>\n",
       "  <tbody>\n",
       "    <tr>\n",
       "      <th>0</th>\n",
       "      <td>328862</td>\n",
       "      <td>323294</td>\n",
       "      <td>833</td>\n",
       "      <td>2661.0</td>\n",
       "      <td>2882</td>\n",
       "      <td>click</td>\n",
       "      <td>2024-08-29</td>\n",
       "      <td>Thursday</td>\n",
       "    </tr>\n",
       "    <tr>\n",
       "      <th>1</th>\n",
       "      <td>328862</td>\n",
       "      <td>844400</td>\n",
       "      <td>1271</td>\n",
       "      <td>2661.0</td>\n",
       "      <td>2882</td>\n",
       "      <td>click</td>\n",
       "      <td>2024-08-29</td>\n",
       "      <td>Thursday</td>\n",
       "    </tr>\n",
       "    <tr>\n",
       "      <th>2</th>\n",
       "      <td>328862</td>\n",
       "      <td>575153</td>\n",
       "      <td>1271</td>\n",
       "      <td>2661.0</td>\n",
       "      <td>2882</td>\n",
       "      <td>click</td>\n",
       "      <td>2024-08-29</td>\n",
       "      <td>Thursday</td>\n",
       "    </tr>\n",
       "    <tr>\n",
       "      <th>3</th>\n",
       "      <td>328862</td>\n",
       "      <td>996875</td>\n",
       "      <td>1271</td>\n",
       "      <td>2661.0</td>\n",
       "      <td>2882</td>\n",
       "      <td>click</td>\n",
       "      <td>2024-08-29</td>\n",
       "      <td>Thursday</td>\n",
       "    </tr>\n",
       "    <tr>\n",
       "      <th>4</th>\n",
       "      <td>328862</td>\n",
       "      <td>1086186</td>\n",
       "      <td>1271</td>\n",
       "      <td>1049.0</td>\n",
       "      <td>1253</td>\n",
       "      <td>click</td>\n",
       "      <td>2024-08-29</td>\n",
       "      <td>Thursday</td>\n",
       "    </tr>\n",
       "  </tbody>\n",
       "</table>\n",
       "</div>"
      ],
      "text/plain": [
       "   user_id  item_id  cat_id  brand_id  merchant_id action   datetime  \\\n",
       "0   328862   323294     833    2661.0         2882  click 2024-08-29   \n",
       "1   328862   844400    1271    2661.0         2882  click 2024-08-29   \n",
       "2   328862   575153    1271    2661.0         2882  click 2024-08-29   \n",
       "3   328862   996875    1271    2661.0         2882  click 2024-08-29   \n",
       "4   328862  1086186    1271    1049.0         1253  click 2024-08-29   \n",
       "\n",
       "  Day_of_Week  \n",
       "0    Thursday  \n",
       "1    Thursday  \n",
       "2    Thursday  \n",
       "3    Thursday  \n",
       "4    Thursday  "
      ]
     },
     "execution_count": 32,
     "metadata": {},
     "output_type": "execute_result"
    }
   ],
   "source": [
    "user_log['Day_of_Week'] = user_log['datetime'].dt.day_name()\n",
    "user_log.head()"
   ]
  },
  {
   "cell_type": "code",
   "execution_count": 33,
   "metadata": {
    "execution": {
     "execution_failed": "2025-05-26T12:46:42.656Z"
    },
    "trusted": true
   },
   "outputs": [
    {
     "data": {
      "text/plain": [
       "user_id            0\n",
       "item_id            0\n",
       "cat_id             0\n",
       "brand_id       91015\n",
       "merchant_id        0\n",
       "action             0\n",
       "datetime           0\n",
       "Day_of_Week        0\n",
       "dtype: int64"
      ]
     },
     "execution_count": 33,
     "metadata": {},
     "output_type": "execute_result"
    }
   ],
   "source": [
    "user_log.isna().sum()"
   ]
  },
  {
   "cell_type": "code",
   "execution_count": 34,
   "metadata": {
    "execution": {
     "execution_failed": "2025-05-26T12:46:42.656Z"
    },
    "trusted": true
   },
   "outputs": [],
   "source": [
    "user_log.dropna(subset=['brand_id'], inplace=True)"
   ]
  },
  {
   "cell_type": "code",
   "execution_count": 35,
   "metadata": {
    "execution": {
     "execution_failed": "2025-05-26T12:46:42.656Z"
    },
    "trusted": true
   },
   "outputs": [
    {
     "data": {
      "text/plain": [
       "np.int64(0)"
      ]
     },
     "execution_count": 35,
     "metadata": {},
     "output_type": "execute_result"
    }
   ],
   "source": [
    "user_info.duplicated().sum()"
   ]
  },
  {
   "cell_type": "code",
   "execution_count": 36,
   "metadata": {
    "execution": {
     "execution_failed": "2025-05-26T12:46:42.656Z"
    },
    "trusted": true
   },
   "outputs": [
    {
     "data": {
      "text/plain": [
       "np.int64(13746588)"
      ]
     },
     "execution_count": 36,
     "metadata": {},
     "output_type": "execute_result"
    }
   ],
   "source": [
    "user_log.duplicated().sum()"
   ]
  },
  {
   "cell_type": "code",
   "execution_count": null,
   "metadata": {
    "execution": {
     "execution_failed": "2025-05-26T12:46:42.656Z"
    },
    "trusted": true
   },
   "outputs": [
    {
     "name": "stdout",
     "output_type": "stream",
     "text": [
      "             duplicate_count\n",
      "add-to-cart                0\n",
      "purchase              482898\n",
      "favourite                  0\n",
      "click               20108112\n"
     ]
    }
   ],
   "source": [
    "actions = ['add-to-cart', 'purchase', 'favourite', 'click']\n",
    "duplicate_counts = {}\n",
    "\n",
    "for act in actions:\n",
    "    subset_df = user_log[user_log['action'] == act]\n",
    "    duplicated_rows = subset_df[subset_df.duplicated(keep=False)]\n",
    "    duplicate_counts[act] = duplicated_rows.shape[0]\n",
    "\n",
    "import pandas as pd\n",
    "duplicate_summary = pd.DataFrame.from_dict(duplicate_counts, orient='index', columns=['duplicate_count'])\n",
    "print(duplicate_summary)\n"
   ]
  },
  {
   "cell_type": "markdown",
   "metadata": {},
   "source": [
    "- Extract the date column  \n",
    "- Filter the purchase actions  \n",
    "- Check if any user bought the same product 2 or more times in a single day  \n"
   ]
  },
  {
   "cell_type": "code",
   "execution_count": null,
   "metadata": {
    "execution": {
     "execution_failed": "2025-05-26T12:46:42.656Z"
    },
    "trusted": true
   },
   "outputs": [
    {
     "data": {
      "text/html": [
       "<div>\n",
       "<style scoped>\n",
       "    .dataframe tbody tr th:only-of-type {\n",
       "        vertical-align: middle;\n",
       "    }\n",
       "\n",
       "    .dataframe tbody tr th {\n",
       "        vertical-align: top;\n",
       "    }\n",
       "\n",
       "    .dataframe thead th {\n",
       "        text-align: right;\n",
       "    }\n",
       "</style>\n",
       "<table border=\"1\" class=\"dataframe\">\n",
       "  <thead>\n",
       "    <tr style=\"text-align: right;\">\n",
       "      <th></th>\n",
       "      <th>user_id</th>\n",
       "      <th>item_id</th>\n",
       "      <th>date</th>\n",
       "      <th>count</th>\n",
       "    </tr>\n",
       "  </thead>\n",
       "  <tbody>\n",
       "    <tr>\n",
       "      <th>81071</th>\n",
       "      <td>981</td>\n",
       "      <td>783997</td>\n",
       "      <td>2024-11-11</td>\n",
       "      <td>3095</td>\n",
       "    </tr>\n",
       "    <tr>\n",
       "      <th>515124</th>\n",
       "      <td>6355</td>\n",
       "      <td>67897</td>\n",
       "      <td>2024-11-11</td>\n",
       "      <td>1359</td>\n",
       "    </tr>\n",
       "    <tr>\n",
       "      <th>1064966</th>\n",
       "      <td>13044</td>\n",
       "      <td>844992</td>\n",
       "      <td>2024-11-11</td>\n",
       "      <td>1201</td>\n",
       "    </tr>\n",
       "    <tr>\n",
       "      <th>2560478</th>\n",
       "      <td>31095</td>\n",
       "      <td>67897</td>\n",
       "      <td>2024-11-11</td>\n",
       "      <td>1139</td>\n",
       "    </tr>\n",
       "    <tr>\n",
       "      <th>2813904</th>\n",
       "      <td>34087</td>\n",
       "      <td>102868</td>\n",
       "      <td>2024-11-11</td>\n",
       "      <td>1242</td>\n",
       "    </tr>\n",
       "    <tr>\n",
       "      <th>...</th>\n",
       "      <td>...</td>\n",
       "      <td>...</td>\n",
       "      <td>...</td>\n",
       "      <td>...</td>\n",
       "    </tr>\n",
       "    <tr>\n",
       "      <th>29449917</th>\n",
       "      <td>355582</td>\n",
       "      <td>67897</td>\n",
       "      <td>2024-11-11</td>\n",
       "      <td>1024</td>\n",
       "    </tr>\n",
       "    <tr>\n",
       "      <th>32379483</th>\n",
       "      <td>391188</td>\n",
       "      <td>269715</td>\n",
       "      <td>2024-11-11</td>\n",
       "      <td>3870</td>\n",
       "    </tr>\n",
       "    <tr>\n",
       "      <th>32819331</th>\n",
       "      <td>396636</td>\n",
       "      <td>67897</td>\n",
       "      <td>2024-11-11</td>\n",
       "      <td>1018</td>\n",
       "    </tr>\n",
       "    <tr>\n",
       "      <th>33405419</th>\n",
       "      <td>403670</td>\n",
       "      <td>783997</td>\n",
       "      <td>2024-11-11</td>\n",
       "      <td>1062</td>\n",
       "    </tr>\n",
       "    <tr>\n",
       "      <th>34268905</th>\n",
       "      <td>414239</td>\n",
       "      <td>636863</td>\n",
       "      <td>2024-11-11</td>\n",
       "      <td>1828</td>\n",
       "    </tr>\n",
       "  </tbody>\n",
       "</table>\n",
       "<p>69 rows × 4 columns</p>\n",
       "</div>"
      ],
      "text/plain": [
       "          user_id  item_id        date  count\n",
       "81071         981   783997  2024-11-11   3095\n",
       "515124       6355    67897  2024-11-11   1359\n",
       "1064966     13044   844992  2024-11-11   1201\n",
       "2560478     31095    67897  2024-11-11   1139\n",
       "2813904     34087   102868  2024-11-11   1242\n",
       "...           ...      ...         ...    ...\n",
       "29449917   355582    67897  2024-11-11   1024\n",
       "32379483   391188   269715  2024-11-11   3870\n",
       "32819331   396636    67897  2024-11-11   1018\n",
       "33405419   403670   783997  2024-11-11   1062\n",
       "34268905   414239   636863  2024-11-11   1828\n",
       "\n",
       "[69 rows x 4 columns]"
      ]
     },
     "execution_count": 38,
     "metadata": {},
     "output_type": "execute_result"
    }
   ],
   "source": [
    "\n",
    "user_log['date'] = user_log['datetime'].dt.date\n",
    "\n",
    "\n",
    "purchase_log = user_log[user_log['action'] == 'click']\n",
    "\n",
    "purchase_log.groupby(['user_id', 'item_id', 'date']).size().reset_index(name='count').query('count > 1000')\n"
   ]
  },
  {
   "cell_type": "code",
   "execution_count": null,
   "metadata": {
    "execution": {
     "execution_failed": "2025-05-26T12:46:42.656Z"
    },
    "trusted": true
   },
   "outputs": [
    {
     "data": {
      "text/html": [
       "<div>\n",
       "<style scoped>\n",
       "    .dataframe tbody tr th:only-of-type {\n",
       "        vertical-align: middle;\n",
       "    }\n",
       "\n",
       "    .dataframe tbody tr th {\n",
       "        vertical-align: top;\n",
       "    }\n",
       "\n",
       "    .dataframe thead th {\n",
       "        text-align: right;\n",
       "    }\n",
       "</style>\n",
       "<table border=\"1\" class=\"dataframe\">\n",
       "  <thead>\n",
       "    <tr style=\"text-align: right;\">\n",
       "      <th></th>\n",
       "      <th>user_id</th>\n",
       "      <th>item_id</th>\n",
       "      <th>cat_id</th>\n",
       "      <th>brand_id</th>\n",
       "      <th>merchant_id</th>\n",
       "      <th>action</th>\n",
       "      <th>datetime</th>\n",
       "      <th>Day_of_Week</th>\n",
       "      <th>date</th>\n",
       "    </tr>\n",
       "  </thead>\n",
       "  <tbody>\n",
       "    <tr>\n",
       "      <th>23288863</th>\n",
       "      <td>1</td>\n",
       "      <td>112203</td>\n",
       "      <td>1252</td>\n",
       "      <td>1469.0</td>\n",
       "      <td>4026</td>\n",
       "      <td>click</td>\n",
       "      <td>2024-10-18</td>\n",
       "      <td>Friday</td>\n",
       "      <td>2024-10-18</td>\n",
       "    </tr>\n",
       "    <tr>\n",
       "      <th>23288866</th>\n",
       "      <td>1</td>\n",
       "      <td>112203</td>\n",
       "      <td>1252</td>\n",
       "      <td>1469.0</td>\n",
       "      <td>4026</td>\n",
       "      <td>click</td>\n",
       "      <td>2024-10-18</td>\n",
       "      <td>Friday</td>\n",
       "      <td>2024-10-18</td>\n",
       "    </tr>\n",
       "    <tr>\n",
       "      <th>23288895</th>\n",
       "      <td>1</td>\n",
       "      <td>112203</td>\n",
       "      <td>1252</td>\n",
       "      <td>1469.0</td>\n",
       "      <td>4026</td>\n",
       "      <td>click</td>\n",
       "      <td>2024-10-18</td>\n",
       "      <td>Friday</td>\n",
       "      <td>2024-10-18</td>\n",
       "    </tr>\n",
       "    <tr>\n",
       "      <th>23288886</th>\n",
       "      <td>1</td>\n",
       "      <td>504149</td>\n",
       "      <td>1023</td>\n",
       "      <td>7402.0</td>\n",
       "      <td>925</td>\n",
       "      <td>click</td>\n",
       "      <td>2024-10-11</td>\n",
       "      <td>Friday</td>\n",
       "      <td>2024-10-11</td>\n",
       "    </tr>\n",
       "    <tr>\n",
       "      <th>23288887</th>\n",
       "      <td>1</td>\n",
       "      <td>504149</td>\n",
       "      <td>1023</td>\n",
       "      <td>7402.0</td>\n",
       "      <td>925</td>\n",
       "      <td>click</td>\n",
       "      <td>2024-10-11</td>\n",
       "      <td>Friday</td>\n",
       "      <td>2024-10-11</td>\n",
       "    </tr>\n",
       "    <tr>\n",
       "      <th>23288889</th>\n",
       "      <td>1</td>\n",
       "      <td>504149</td>\n",
       "      <td>1023</td>\n",
       "      <td>7402.0</td>\n",
       "      <td>925</td>\n",
       "      <td>click</td>\n",
       "      <td>2024-10-11</td>\n",
       "      <td>Friday</td>\n",
       "      <td>2024-10-11</td>\n",
       "    </tr>\n",
       "    <tr>\n",
       "      <th>23288891</th>\n",
       "      <td>1</td>\n",
       "      <td>779078</td>\n",
       "      <td>276</td>\n",
       "      <td>4750.0</td>\n",
       "      <td>2245</td>\n",
       "      <td>click</td>\n",
       "      <td>2024-10-09</td>\n",
       "      <td>Wednesday</td>\n",
       "      <td>2024-10-09</td>\n",
       "    </tr>\n",
       "    <tr>\n",
       "      <th>23288892</th>\n",
       "      <td>1</td>\n",
       "      <td>779078</td>\n",
       "      <td>276</td>\n",
       "      <td>4750.0</td>\n",
       "      <td>2245</td>\n",
       "      <td>click</td>\n",
       "      <td>2024-10-09</td>\n",
       "      <td>Wednesday</td>\n",
       "      <td>2024-10-09</td>\n",
       "    </tr>\n",
       "    <tr>\n",
       "      <th>23288869</th>\n",
       "      <td>1</td>\n",
       "      <td>1110495</td>\n",
       "      <td>992</td>\n",
       "      <td>6805.0</td>\n",
       "      <td>1019</td>\n",
       "      <td>click</td>\n",
       "      <td>2024-11-11</td>\n",
       "      <td>Monday</td>\n",
       "      <td>2024-11-11</td>\n",
       "    </tr>\n",
       "    <tr>\n",
       "      <th>23288870</th>\n",
       "      <td>1</td>\n",
       "      <td>1110495</td>\n",
       "      <td>992</td>\n",
       "      <td>6805.0</td>\n",
       "      <td>1019</td>\n",
       "      <td>click</td>\n",
       "      <td>2024-11-11</td>\n",
       "      <td>Monday</td>\n",
       "      <td>2024-11-11</td>\n",
       "    </tr>\n",
       "    <tr>\n",
       "      <th>23288871</th>\n",
       "      <td>1</td>\n",
       "      <td>1110495</td>\n",
       "      <td>992</td>\n",
       "      <td>6805.0</td>\n",
       "      <td>1019</td>\n",
       "      <td>click</td>\n",
       "      <td>2024-11-11</td>\n",
       "      <td>Monday</td>\n",
       "      <td>2024-11-11</td>\n",
       "    </tr>\n",
       "    <tr>\n",
       "      <th>23288872</th>\n",
       "      <td>1</td>\n",
       "      <td>1110495</td>\n",
       "      <td>992</td>\n",
       "      <td>6805.0</td>\n",
       "      <td>1019</td>\n",
       "      <td>click</td>\n",
       "      <td>2024-11-11</td>\n",
       "      <td>Monday</td>\n",
       "      <td>2024-11-11</td>\n",
       "    </tr>\n",
       "    <tr>\n",
       "      <th>23288873</th>\n",
       "      <td>1</td>\n",
       "      <td>1110495</td>\n",
       "      <td>992</td>\n",
       "      <td>6805.0</td>\n",
       "      <td>1019</td>\n",
       "      <td>click</td>\n",
       "      <td>2024-11-11</td>\n",
       "      <td>Monday</td>\n",
       "      <td>2024-11-11</td>\n",
       "    </tr>\n",
       "    <tr>\n",
       "      <th>23288878</th>\n",
       "      <td>1</td>\n",
       "      <td>1110495</td>\n",
       "      <td>992</td>\n",
       "      <td>6805.0</td>\n",
       "      <td>1019</td>\n",
       "      <td>click</td>\n",
       "      <td>2024-11-11</td>\n",
       "      <td>Monday</td>\n",
       "      <td>2024-11-11</td>\n",
       "    </tr>\n",
       "    <tr>\n",
       "      <th>23288880</th>\n",
       "      <td>1</td>\n",
       "      <td>1110495</td>\n",
       "      <td>992</td>\n",
       "      <td>6805.0</td>\n",
       "      <td>1019</td>\n",
       "      <td>click</td>\n",
       "      <td>2024-11-11</td>\n",
       "      <td>Monday</td>\n",
       "      <td>2024-11-11</td>\n",
       "    </tr>\n",
       "    <tr>\n",
       "      <th>23288882</th>\n",
       "      <td>1</td>\n",
       "      <td>1110495</td>\n",
       "      <td>992</td>\n",
       "      <td>6805.0</td>\n",
       "      <td>1019</td>\n",
       "      <td>click</td>\n",
       "      <td>2024-11-11</td>\n",
       "      <td>Monday</td>\n",
       "      <td>2024-11-11</td>\n",
       "    </tr>\n",
       "    <tr>\n",
       "      <th>23288883</th>\n",
       "      <td>1</td>\n",
       "      <td>1110495</td>\n",
       "      <td>992</td>\n",
       "      <td>6805.0</td>\n",
       "      <td>1019</td>\n",
       "      <td>click</td>\n",
       "      <td>2024-11-11</td>\n",
       "      <td>Monday</td>\n",
       "      <td>2024-11-11</td>\n",
       "    </tr>\n",
       "    <tr>\n",
       "      <th>23288884</th>\n",
       "      <td>1</td>\n",
       "      <td>1110495</td>\n",
       "      <td>992</td>\n",
       "      <td>6805.0</td>\n",
       "      <td>1019</td>\n",
       "      <td>click</td>\n",
       "      <td>2024-11-11</td>\n",
       "      <td>Monday</td>\n",
       "      <td>2024-11-11</td>\n",
       "    </tr>\n",
       "    <tr>\n",
       "      <th>26051084</th>\n",
       "      <td>2</td>\n",
       "      <td>85520</td>\n",
       "      <td>737</td>\n",
       "      <td>8321.0</td>\n",
       "      <td>1974</td>\n",
       "      <td>click</td>\n",
       "      <td>2024-08-17</td>\n",
       "      <td>Saturday</td>\n",
       "      <td>2024-08-17</td>\n",
       "    </tr>\n",
       "    <tr>\n",
       "      <th>26051100</th>\n",
       "      <td>2</td>\n",
       "      <td>85520</td>\n",
       "      <td>737</td>\n",
       "      <td>8321.0</td>\n",
       "      <td>1974</td>\n",
       "      <td>click</td>\n",
       "      <td>2024-08-17</td>\n",
       "      <td>Saturday</td>\n",
       "      <td>2024-08-17</td>\n",
       "    </tr>\n",
       "  </tbody>\n",
       "</table>\n",
       "</div>"
      ],
      "text/plain": [
       "          user_id  item_id  cat_id  brand_id  merchant_id action   datetime  \\\n",
       "23288863        1   112203    1252    1469.0         4026  click 2024-10-18   \n",
       "23288866        1   112203    1252    1469.0         4026  click 2024-10-18   \n",
       "23288895        1   112203    1252    1469.0         4026  click 2024-10-18   \n",
       "23288886        1   504149    1023    7402.0          925  click 2024-10-11   \n",
       "23288887        1   504149    1023    7402.0          925  click 2024-10-11   \n",
       "23288889        1   504149    1023    7402.0          925  click 2024-10-11   \n",
       "23288891        1   779078     276    4750.0         2245  click 2024-10-09   \n",
       "23288892        1   779078     276    4750.0         2245  click 2024-10-09   \n",
       "23288869        1  1110495     992    6805.0         1019  click 2024-11-11   \n",
       "23288870        1  1110495     992    6805.0         1019  click 2024-11-11   \n",
       "23288871        1  1110495     992    6805.0         1019  click 2024-11-11   \n",
       "23288872        1  1110495     992    6805.0         1019  click 2024-11-11   \n",
       "23288873        1  1110495     992    6805.0         1019  click 2024-11-11   \n",
       "23288878        1  1110495     992    6805.0         1019  click 2024-11-11   \n",
       "23288880        1  1110495     992    6805.0         1019  click 2024-11-11   \n",
       "23288882        1  1110495     992    6805.0         1019  click 2024-11-11   \n",
       "23288883        1  1110495     992    6805.0         1019  click 2024-11-11   \n",
       "23288884        1  1110495     992    6805.0         1019  click 2024-11-11   \n",
       "26051084        2    85520     737    8321.0         1974  click 2024-08-17   \n",
       "26051100        2    85520     737    8321.0         1974  click 2024-08-17   \n",
       "\n",
       "         Day_of_Week        date  \n",
       "23288863      Friday  2024-10-18  \n",
       "23288866      Friday  2024-10-18  \n",
       "23288895      Friday  2024-10-18  \n",
       "23288886      Friday  2024-10-11  \n",
       "23288887      Friday  2024-10-11  \n",
       "23288889      Friday  2024-10-11  \n",
       "23288891   Wednesday  2024-10-09  \n",
       "23288892   Wednesday  2024-10-09  \n",
       "23288869      Monday  2024-11-11  \n",
       "23288870      Monday  2024-11-11  \n",
       "23288871      Monday  2024-11-11  \n",
       "23288872      Monday  2024-11-11  \n",
       "23288873      Monday  2024-11-11  \n",
       "23288878      Monday  2024-11-11  \n",
       "23288880      Monday  2024-11-11  \n",
       "23288882      Monday  2024-11-11  \n",
       "23288883      Monday  2024-11-11  \n",
       "23288884      Monday  2024-11-11  \n",
       "26051084    Saturday  2024-08-17  \n",
       "26051100    Saturday  2024-08-17  "
      ]
     },
     "execution_count": 39,
     "metadata": {},
     "output_type": "execute_result"
    }
   ],
   "source": [
    "repeat_purchase_log = purchase_log[purchase_log.duplicated(subset=['user_id', 'item_id', 'date'], keep=False)]\n",
    "repeat_purchase_log.sort_values(['user_id', 'item_id', 'date']).head(20)\n"
   ]
  },
  {
   "cell_type": "code",
   "execution_count": null,
   "metadata": {
    "execution": {
     "execution_failed": "2025-05-26T12:46:42.656Z"
    },
    "trusted": true
   },
   "outputs": [
    {
     "name": "stdout",
     "output_type": "stream",
     "text": [
      "        user_id  total_actions\n",
      "0             1             33\n",
      "1             2             63\n",
      "2             3             68\n",
      "3             4             50\n",
      "4             5            172\n",
      "...         ...            ...\n",
      "424165   424166             90\n",
      "424166   424167             35\n",
      "424167   424168            223\n",
      "424168   424169            297\n",
      "424169   424170             40\n",
      "\n",
      "[424170 rows x 2 columns]\n"
     ]
    }
   ],
   "source": [
    "# Calculate the total number of actions performed by each user_id\n",
    "action_counts_per_user = user_log.groupby('user_id').size().reset_index(name='total_actions')\n",
    "print(action_counts_per_user)\n"
   ]
  },
  {
   "cell_type": "code",
   "execution_count": null,
   "metadata": {
    "execution": {
     "execution_failed": "2025-05-26T12:46:42.656Z"
    },
    "trusted": true
   },
   "outputs": [
    {
     "name": "stdout",
     "output_type": "stream",
     "text": [
      "Trung bình mỗi user_id thực hiện số hành động: 129.2743829125115\n"
     ]
    }
   ],
   "source": [
    "import pandas as pd\n",
    "\n",
    "action_counts_per_user = user_log.groupby('user_id').size()\n",
    "\n",
    "average_actions_per_user = action_counts_per_user.mean()\n",
    "\n",
    "print(\"Calculate the average number of actions performed per user_id:\", average_actions_per_user)\n"
   ]
  },
  {
   "cell_type": "markdown",
   "metadata": {},
   "source": [
    "- 1. Count the number of each action per user_id\n",
    "- 2. Rename the columns with clearer names\n",
    "- 3. Calculate the number of unique interacted fields\n",
    "- 4. Calculate the total number of different days of the week the user has interacted (from Day_of_Week)\n",
    "- 5. Merge all data with user_info\n",
    "- 6. Fill missing values with 0 for users without logs\n"
   ]
  },
  {
   "cell_type": "code",
   "execution_count": null,
   "metadata": {
    "execution": {
     "execution_failed": "2025-05-26T12:46:42.656Z"
    },
    "trusted": true
   },
   "outputs": [
    {
     "data": {
      "text/html": [
       "<div>\n",
       "<style scoped>\n",
       "    .dataframe tbody tr th:only-of-type {\n",
       "        vertical-align: middle;\n",
       "    }\n",
       "\n",
       "    .dataframe tbody tr th {\n",
       "        vertical-align: top;\n",
       "    }\n",
       "\n",
       "    .dataframe thead th {\n",
       "        text-align: right;\n",
       "    }\n",
       "</style>\n",
       "<table border=\"1\" class=\"dataframe\">\n",
       "  <thead>\n",
       "    <tr style=\"text-align: right;\">\n",
       "      <th></th>\n",
       "      <th>user_id</th>\n",
       "      <th>sex</th>\n",
       "      <th>job</th>\n",
       "      <th>carrier</th>\n",
       "      <th>marital_status</th>\n",
       "      <th>age_range</th>\n",
       "      <th>num_add_to_cart</th>\n",
       "      <th>num_clicks</th>\n",
       "      <th>num_favourites</th>\n",
       "      <th>num_purchases</th>\n",
       "      <th>num_unique_items</th>\n",
       "      <th>num_unique_cats</th>\n",
       "      <th>num_unique_brands</th>\n",
       "      <th>num_unique_merchants</th>\n",
       "      <th>num_active_days</th>\n",
       "    </tr>\n",
       "  </thead>\n",
       "  <tbody>\n",
       "    <tr>\n",
       "      <th>0</th>\n",
       "      <td>376517</td>\n",
       "      <td>M</td>\n",
       "      <td>Thực tập sinh giáo dục</td>\n",
       "      <td>other</td>\n",
       "      <td>Married</td>\n",
       "      <td>36-60</td>\n",
       "      <td>0</td>\n",
       "      <td>73</td>\n",
       "      <td>1</td>\n",
       "      <td>5</td>\n",
       "      <td>39</td>\n",
       "      <td>17</td>\n",
       "      <td>20</td>\n",
       "      <td>20</td>\n",
       "      <td>6</td>\n",
       "    </tr>\n",
       "    <tr>\n",
       "      <th>1</th>\n",
       "      <td>234512</td>\n",
       "      <td>F</td>\n",
       "      <td>unknown</td>\n",
       "      <td>vietnamobile</td>\n",
       "      <td>Married</td>\n",
       "      <td>36-60</td>\n",
       "      <td>0</td>\n",
       "      <td>47</td>\n",
       "      <td>2</td>\n",
       "      <td>7</td>\n",
       "      <td>29</td>\n",
       "      <td>18</td>\n",
       "      <td>20</td>\n",
       "      <td>21</td>\n",
       "      <td>7</td>\n",
       "    </tr>\n",
       "    <tr>\n",
       "      <th>2</th>\n",
       "      <td>344532</td>\n",
       "      <td>F</td>\n",
       "      <td>DevOps Engineer</td>\n",
       "      <td>other</td>\n",
       "      <td>Married</td>\n",
       "      <td>36-60</td>\n",
       "      <td>0</td>\n",
       "      <td>64</td>\n",
       "      <td>19</td>\n",
       "      <td>8</td>\n",
       "      <td>54</td>\n",
       "      <td>25</td>\n",
       "      <td>21</td>\n",
       "      <td>20</td>\n",
       "      <td>7</td>\n",
       "    </tr>\n",
       "    <tr>\n",
       "      <th>3</th>\n",
       "      <td>186135</td>\n",
       "      <td>F</td>\n",
       "      <td>Thực tập sinh giáo dục</td>\n",
       "      <td>vietnamobile</td>\n",
       "      <td>Married</td>\n",
       "      <td>36-60</td>\n",
       "      <td>0</td>\n",
       "      <td>193</td>\n",
       "      <td>5</td>\n",
       "      <td>2</td>\n",
       "      <td>21</td>\n",
       "      <td>11</td>\n",
       "      <td>10</td>\n",
       "      <td>11</td>\n",
       "      <td>5</td>\n",
       "    </tr>\n",
       "    <tr>\n",
       "      <th>4</th>\n",
       "      <td>30230</td>\n",
       "      <td>F</td>\n",
       "      <td>DevOps Engineer</td>\n",
       "      <td>viettel</td>\n",
       "      <td>Married</td>\n",
       "      <td>36-60</td>\n",
       "      <td>0</td>\n",
       "      <td>29</td>\n",
       "      <td>0</td>\n",
       "      <td>3</td>\n",
       "      <td>24</td>\n",
       "      <td>13</td>\n",
       "      <td>14</td>\n",
       "      <td>14</td>\n",
       "      <td>5</td>\n",
       "    </tr>\n",
       "  </tbody>\n",
       "</table>\n",
       "</div>"
      ],
      "text/plain": [
       "   user_id sex                     job       carrier marital_status age_range  \\\n",
       "0   376517   M  Thực tập sinh giáo dục         other        Married     36-60   \n",
       "1   234512   F                 unknown  vietnamobile        Married     36-60   \n",
       "2   344532   F         DevOps Engineer         other        Married     36-60   \n",
       "3   186135   F  Thực tập sinh giáo dục  vietnamobile        Married     36-60   \n",
       "4    30230   F         DevOps Engineer       viettel        Married     36-60   \n",
       "\n",
       "   num_add_to_cart  num_clicks  num_favourites  num_purchases  \\\n",
       "0                0          73               1              5   \n",
       "1                0          47               2              7   \n",
       "2                0          64              19              8   \n",
       "3                0         193               5              2   \n",
       "4                0          29               0              3   \n",
       "\n",
       "   num_unique_items  num_unique_cats  num_unique_brands  num_unique_merchants  \\\n",
       "0                39               17                 20                    20   \n",
       "1                29               18                 20                    21   \n",
       "2                54               25                 21                    20   \n",
       "3                21               11                 10                    11   \n",
       "4                24               13                 14                    14   \n",
       "\n",
       "   num_active_days  \n",
       "0                6  \n",
       "1                7  \n",
       "2                7  \n",
       "3                5  \n",
       "4                5  "
      ]
     },
     "execution_count": 42,
     "metadata": {},
     "output_type": "execute_result"
    }
   ],
   "source": [
    "\n",
    "action_counts = user_log.pivot_table(index='user_id', \n",
    "                                     columns='action', \n",
    "                                     aggfunc='size', \n",
    "                                     fill_value=0).reset_index()\n",
    "\n",
    "\n",
    "action_counts.columns.name = None\n",
    "action_counts = action_counts.rename(columns={\n",
    "    'click': 'num_clicks',\n",
    "    'add-to-cart': 'num_add_to_cart',\n",
    "    'purchase': 'num_purchases',\n",
    "    'favourite': 'num_favourites'\n",
    "})\n",
    "\n",
    "\n",
    "unique_counts = user_log.groupby('user_id').agg({\n",
    "    'item_id': 'nunique',\n",
    "    'cat_id': 'nunique',\n",
    "    'brand_id': 'nunique',\n",
    "    'merchant_id': 'nunique'\n",
    "}).reset_index()\n",
    "\n",
    "unique_counts = unique_counts.rename(columns={\n",
    "    'item_id': 'num_unique_items',\n",
    "    'cat_id': 'num_unique_cats',\n",
    "    'brand_id': 'num_unique_brands',\n",
    "    'merchant_id': 'num_unique_merchants'\n",
    "})\n",
    "\n",
    "\n",
    "day_counts = user_log.groupby('user_id')['Day_of_Week'].nunique().reset_index()\n",
    "day_counts = day_counts.rename(columns={'Day_of_Week': 'num_active_days'})\n",
    "\n",
    "\n",
    "user_behavior = user_info.copy()\n",
    "\n",
    "user_behavior = pd.merge(user_behavior, action_counts, how='left', on='user_id')\n",
    "user_behavior = pd.merge(user_behavior, unique_counts, how='left', on='user_id')\n",
    "user_behavior = pd.merge(user_behavior, day_counts, how='left', on='user_id')\n",
    "\n",
    "cols_to_fill = ['num_clicks', 'num_add_to_cart', 'num_purchases', 'num_favourites',\n",
    "                'num_unique_items', 'num_unique_cats', 'num_unique_brands', 'num_unique_merchants',\n",
    "                'num_active_days']\n",
    "user_behavior[cols_to_fill] = user_behavior[cols_to_fill].fillna(0).astype(int)\n",
    "\n",
    "\n",
    "user_behavior.head()\n"
   ]
  },
  {
   "cell_type": "markdown",
   "metadata": {},
   "source": [
    "# Exploratory Data Analysis"
   ]
  },
  {
   "cell_type": "markdown",
   "metadata": {},
   "source": [
    "## Demographic"
   ]
  },
  {
   "cell_type": "code",
   "execution_count": 43,
   "metadata": {
    "execution": {
     "execution_failed": "2025-05-26T12:46:42.656Z"
    },
    "trusted": true
   },
   "outputs": [
    {
     "data": {
      "text/html": [
       "<div>\n",
       "<style scoped>\n",
       "    .dataframe tbody tr th:only-of-type {\n",
       "        vertical-align: middle;\n",
       "    }\n",
       "\n",
       "    .dataframe tbody tr th {\n",
       "        vertical-align: top;\n",
       "    }\n",
       "\n",
       "    .dataframe thead th {\n",
       "        text-align: right;\n",
       "    }\n",
       "</style>\n",
       "<table border=\"1\" class=\"dataframe\">\n",
       "  <thead>\n",
       "    <tr style=\"text-align: right;\">\n",
       "      <th></th>\n",
       "      <th>user_id</th>\n",
       "      <th>sex</th>\n",
       "      <th>job</th>\n",
       "      <th>carrier</th>\n",
       "      <th>marital_status</th>\n",
       "      <th>age_range</th>\n",
       "    </tr>\n",
       "  </thead>\n",
       "  <tbody>\n",
       "    <tr>\n",
       "      <th>0</th>\n",
       "      <td>376517</td>\n",
       "      <td>M</td>\n",
       "      <td>Thực tập sinh giáo dục</td>\n",
       "      <td>other</td>\n",
       "      <td>Married</td>\n",
       "      <td>36-60</td>\n",
       "    </tr>\n",
       "    <tr>\n",
       "      <th>1</th>\n",
       "      <td>234512</td>\n",
       "      <td>F</td>\n",
       "      <td>unknown</td>\n",
       "      <td>vietnamobile</td>\n",
       "      <td>Married</td>\n",
       "      <td>36-60</td>\n",
       "    </tr>\n",
       "    <tr>\n",
       "      <th>2</th>\n",
       "      <td>344532</td>\n",
       "      <td>F</td>\n",
       "      <td>DevOps Engineer</td>\n",
       "      <td>other</td>\n",
       "      <td>Married</td>\n",
       "      <td>36-60</td>\n",
       "    </tr>\n",
       "    <tr>\n",
       "      <th>3</th>\n",
       "      <td>186135</td>\n",
       "      <td>F</td>\n",
       "      <td>Thực tập sinh giáo dục</td>\n",
       "      <td>vietnamobile</td>\n",
       "      <td>Married</td>\n",
       "      <td>36-60</td>\n",
       "    </tr>\n",
       "    <tr>\n",
       "      <th>4</th>\n",
       "      <td>30230</td>\n",
       "      <td>F</td>\n",
       "      <td>DevOps Engineer</td>\n",
       "      <td>viettel</td>\n",
       "      <td>Married</td>\n",
       "      <td>36-60</td>\n",
       "    </tr>\n",
       "    <tr>\n",
       "      <th>...</th>\n",
       "      <td>...</td>\n",
       "      <td>...</td>\n",
       "      <td>...</td>\n",
       "      <td>...</td>\n",
       "      <td>...</td>\n",
       "      <td>...</td>\n",
       "    </tr>\n",
       "    <tr>\n",
       "      <th>424165</th>\n",
       "      <td>395814</td>\n",
       "      <td>M</td>\n",
       "      <td>Kiến trúc sư phần mềm</td>\n",
       "      <td>vinaphone</td>\n",
       "      <td>Married</td>\n",
       "      <td>18-26</td>\n",
       "    </tr>\n",
       "    <tr>\n",
       "      <th>424166</th>\n",
       "      <td>245950</td>\n",
       "      <td>M</td>\n",
       "      <td>Tư vấn khách hàng</td>\n",
       "      <td>other</td>\n",
       "      <td>Divorced</td>\n",
       "      <td>27-30</td>\n",
       "    </tr>\n",
       "    <tr>\n",
       "      <th>424167</th>\n",
       "      <td>208016</td>\n",
       "      <td>F</td>\n",
       "      <td>Trưởng phòng kinh doanh</td>\n",
       "      <td>viettel</td>\n",
       "      <td>Married</td>\n",
       "      <td>36-60</td>\n",
       "    </tr>\n",
       "    <tr>\n",
       "      <th>424168</th>\n",
       "      <td>272535</td>\n",
       "      <td>M</td>\n",
       "      <td>Dược sĩ</td>\n",
       "      <td>vinaphone</td>\n",
       "      <td>Married</td>\n",
       "      <td>36-60</td>\n",
       "    </tr>\n",
       "    <tr>\n",
       "      <th>424169</th>\n",
       "      <td>18031</td>\n",
       "      <td>M</td>\n",
       "      <td>Dược sĩ</td>\n",
       "      <td>vinaphone</td>\n",
       "      <td>Single</td>\n",
       "      <td>18-26</td>\n",
       "    </tr>\n",
       "  </tbody>\n",
       "</table>\n",
       "<p>424170 rows × 6 columns</p>\n",
       "</div>"
      ],
      "text/plain": [
       "        user_id sex                      job       carrier marital_status  \\\n",
       "0        376517   M   Thực tập sinh giáo dục         other        Married   \n",
       "1        234512   F                  unknown  vietnamobile        Married   \n",
       "2        344532   F          DevOps Engineer         other        Married   \n",
       "3        186135   F   Thực tập sinh giáo dục  vietnamobile        Married   \n",
       "4         30230   F          DevOps Engineer       viettel        Married   \n",
       "...         ...  ..                      ...           ...            ...   \n",
       "424165   395814   M    Kiến trúc sư phần mềm     vinaphone        Married   \n",
       "424166   245950   M        Tư vấn khách hàng         other       Divorced   \n",
       "424167   208016   F  Trưởng phòng kinh doanh       viettel        Married   \n",
       "424168   272535   M                  Dược sĩ     vinaphone        Married   \n",
       "424169    18031   M                  Dược sĩ     vinaphone         Single   \n",
       "\n",
       "       age_range  \n",
       "0          36-60  \n",
       "1          36-60  \n",
       "2          36-60  \n",
       "3          36-60  \n",
       "4          36-60  \n",
       "...          ...  \n",
       "424165     18-26  \n",
       "424166     27-30  \n",
       "424167     36-60  \n",
       "424168     36-60  \n",
       "424169     18-26  \n",
       "\n",
       "[424170 rows x 6 columns]"
      ]
     },
     "execution_count": 43,
     "metadata": {},
     "output_type": "execute_result"
    }
   ],
   "source": [
    "user_info"
   ]
  },
  {
   "cell_type": "markdown",
   "metadata": {},
   "source": [
    "- Pie chart for percentage of gender"
   ]
  },
  {
   "cell_type": "code",
   "execution_count": null,
   "metadata": {
    "execution": {
     "execution_failed": "2025-05-26T12:46:42.656Z"
    },
    "trusted": true
   },
   "outputs": [
    {
     "data": {
      "image/png": "[encoded data removed]",
      "text/plain": [
       "<Figure size 500x500 with 1 Axes>"
      ]
     },
     "metadata": {},
     "output_type": "display_data"
    }
   ],
   "source": [
    "import matplotlib.pyplot as plt\n",
    "import seaborn as sns\n",
    "\n",
    "counts = user_info['sex'].value_counts(dropna=False)\n",
    "\n",
    "colors = sns.color_palette(\"Reds\", n_colors=len(counts))\n",
    "\n",
    "fig, ax = plt.subplots(figsize=(5, 5))\n",
    "wedges, texts, autotexts = ax.pie(\n",
    "    counts,\n",
    "    labels=counts.index.astype(str),\n",
    "    autopct='%1.1f%%',\n",
    "    startangle=90,\n",
    "    colors=colors,\n",
    "    textprops={'fontsize': 12},\n",
    "    pctdistance=0.8,\n",
    "    labeldistance=1.1\n",
    ")\n",
    "\n",
    "ax.legend(wedges, counts.index.astype(str), title=\"Sex\", loc=\"center left\", bbox_to_anchor=(1, 0.5))\n",
    "ax.set_title(\"Gender Percentage\", fontsize=14)\n",
    "ax.axis('equal')\n",
    "plt.tight_layout()\n",
    "plt.show()\n"
   ]
  },
  {
   "cell_type": "markdown",
   "metadata": {},
   "source": [
    "- Total number of purchases by gender\n"
   ]
  },
  {
   "cell_type": "code",
   "execution_count": null,
   "metadata": {},
   "outputs": [
    {
     "data": {
      "image/png": "[encoded data removed]",
      "text/plain": [
       "<Figure size 600x500 with 1 Axes>"
      ]
     },
     "metadata": {},
     "output_type": "display_data"
    }
   ],
   "source": [
    "import matplotlib.pyplot as plt\n",
    "import seaborn as sns\n",
    "\n",
    "purchase_by_sex = user_behavior.groupby('sex')['num_purchases'].sum().sort_index()\n",
    "\n",
    "colors = sns.color_palette(\"Reds\", n_colors=len(purchase_by_sex))\n",
    "\n",
    "plt.figure(figsize=(6, 5))\n",
    "bars = plt.bar(purchase_by_sex.index.astype(str), purchase_by_sex.values, color=colors)\n",
    "\n",
    "# Thêm nhãn\n",
    "plt.xlabel(\"Sex\", fontsize=12)\n",
    "plt.ylabel(\"Sum of purchases\", fontsize=12)\n",
    "plt.title(\"Total number of purchases by gender\", fontsize=14)\n",
    "plt.xticks(rotation=0)\n",
    "plt.tight_layout()\n",
    "plt.show()\n"
   ]
  },
  {
   "cell_type": "code",
   "execution_count": null,
   "metadata": {
    "execution": {
     "execution_failed": "2025-05-26T12:46:42.657Z"
    },
    "trusted": true
   },
   "outputs": [
    {
     "data": {
      "image/png": "[encoded data removed]",
      "text/plain": [
       "<Figure size 800x500 with 1 Axes>"
      ]
     },
     "metadata": {},
     "output_type": "display_data"
    }
   ],
   "source": [
    "import matplotlib.pyplot as plt\n",
    "import seaborn as sns\n",
    "\n",
    "age_counts = user_info['age_range'].value_counts().sort_index()\n",
    "colors = sns.color_palette(\"Reds\", n_colors=len(age_counts))\n",
    "\n",
    "plt.figure(figsize=(8, 5))\n",
    "bars = plt.bar(age_counts.index, age_counts.values, color=colors)\n",
    "\n",
    "plt.xlabel(\"Age Range\", fontsize=12)\n",
    "plt.ylabel(\"Num of Users\", fontsize=12)\n",
    "plt.title(\"Distribution of users by age\", fontsize=14)\n",
    "plt.xticks(rotation=45)\n",
    "plt.tight_layout()\n",
    "plt.show()\n"
   ]
  },
  {
   "cell_type": "code",
   "execution_count": null,
   "metadata": {
    "execution": {
     "execution_failed": "2025-05-26T12:46:42.657Z"
    },
    "trusted": true
   },
   "outputs": [
    {
     "data": {
      "image/png": "[encoded data removed]",
      "text/plain": [
       "<Figure size 800x500 with 1 Axes>"
      ]
     },
     "metadata": {},
     "output_type": "display_data"
    }
   ],
   "source": [
    "import matplotlib.pyplot as plt\n",
    "import seaborn as sns\n",
    "\n",
    "carrier_counts = user_info['carrier'].value_counts().sort_index()\n",
    "\n",
    "colors = sns.color_palette(\"Reds\", n_colors=len(carrier_counts))\n",
    "\n",
    "plt.figure(figsize=(8, 5))\n",
    "bars = plt.bar(carrier_counts.index, carrier_counts.values, color=colors)\n",
    "\n",
    "plt.xlabel(\"Carrier\", fontsize=12)\n",
    "plt.ylabel(\"Num of users\", fontsize=12)\n",
    "plt.title(\"Distribution of users by carrier\", fontsize=14)\n",
    "plt.xticks(rotation=45)\n",
    "plt.tight_layout()\n",
    "plt.show()\n"
   ]
  },
  {
   "cell_type": "code",
   "execution_count": null,
   "metadata": {
    "execution": {
     "execution_failed": "2025-05-26T12:46:42.657Z"
    },
    "trusted": true
   },
   "outputs": [
    {
     "data": {
      "image/png": "[encoded data removed]",
      "text/plain": [
       "<Figure size 800x500 with 1 Axes>"
      ]
     },
     "metadata": {},
     "output_type": "display_data"
    }
   ],
   "source": [
    "import matplotlib.pyplot as plt\n",
    "import seaborn as sns\n",
    "\n",
    "carrier_counts = user_info['marital_status'].value_counts().sort_index()\n",
    "\n",
    "colors = sns.color_palette(\"Reds\", n_colors=len(carrier_counts))\n",
    "\n",
    "plt.figure(figsize=(8, 5))\n",
    "bars = plt.bar(carrier_counts.index, carrier_counts.values, color=colors)\n",
    "\n",
    "plt.xlabel(\"Marital Status\", fontsize=12)\n",
    "plt.ylabel(\"Num of users\", fontsize=12)\n",
    "plt.title(\"Distribution of Marital Status\", fontsize=14)\n",
    "plt.xticks(rotation=45)\n",
    "plt.tight_layout()\n",
    "plt.show()"
   ]
  },
  {
   "cell_type": "markdown",
   "metadata": {},
   "source": [
    "- Create a column for total actions\n",
    "- Total number of actions by age_range"
   ]
  },
  {
   "cell_type": "code",
   "execution_count": null,
   "metadata": {
    "execution": {
     "execution_failed": "2025-05-26T12:46:42.657Z"
    },
    "trusted": true
   },
   "outputs": [
    {
     "data": {
      "image/png": "[encoded data removed]",
      "text/plain": [
       "<Figure size 800x500 with 1 Axes>"
      ]
     },
     "metadata": {},
     "output_type": "display_data"
    }
   ],
   "source": [
    "import matplotlib.pyplot as plt\n",
    "import seaborn as sns\n",
    "\n",
    "user_behavior['action'] = (\n",
    "    user_behavior['num_add_to_cart'] + \n",
    "    user_behavior['num_clicks'] + \n",
    "    user_behavior['num_favourites'] + \n",
    "    user_behavior['num_purchases']\n",
    ")\n",
    "\n",
    "action_by_age = user_behavior.groupby('age_range')['action'].sum().sort_index()\n",
    "\n",
    "colors = sns.color_palette(\"Reds\", n_colors=len(action_by_age))\n",
    "\n",
    "plt.figure(figsize=(8,5))\n",
    "bars = plt.bar(action_by_age.index, action_by_age.values, color=colors)\n",
    "\n",
    "plt.xlabel('Age Range', fontsize=12)\n",
    "plt.ylabel('Total actions', fontsize=12)\n",
    "plt.title('Total number of actions by age_range', fontsize=14)\n",
    "plt.xticks(rotation=45)\n",
    "plt.tight_layout()\n",
    "plt.show()\n"
   ]
  },
  {
   "cell_type": "markdown",
   "metadata": {},
   "source": [
    "## Multivariate"
   ]
  },
  {
   "cell_type": "code",
   "execution_count": null,
   "metadata": {},
   "outputs": [
    {
     "data": {
      "image/png": "[encoded data removed]",
      "text/plain": [
       "<Figure size 800x500 with 1 Axes>"
      ]
     },
     "metadata": {},
     "output_type": "display_data"
    }
   ],
   "source": [
    "import matplotlib.pyplot as plt\n",
    "import seaborn as sns\n",
    "\n",
    "carrier_purchases = user_behavior.groupby('carrier')['num_purchases'].sum().sort_index()\n",
    "\n",
    "colors = sns.color_palette(\"Reds\", n_colors=len(carrier_purchases))\n",
    "\n",
    "plt.figure(figsize=(8, 5))\n",
    "plt.bar(carrier_purchases.index.astype(str), carrier_purchases.values, color=colors)\n",
    "\n",
    "plt.xlabel(\"Carrier\", fontsize=12)\n",
    "plt.ylabel(\"Tổng số lượt mua\", fontsize=12)\n",
    "plt.title(\"Tổng số lượt mua theo nhà mạng (carrier)\", fontsize=14)\n",
    "plt.xticks(rotation=45)\n",
    "plt.tight_layout()\n",
    "plt.show()\n"
   ]
  },
  {
   "cell_type": "code",
   "execution_count": 49,
   "metadata": {
    "execution": {
     "execution_failed": "2025-05-26T12:46:42.657Z"
    },
    "trusted": true
   },
   "outputs": [],
   "source": [
    "\n",
    "purchase = user_log[user_log.action == 'purchase']\n",
    "purchase_count = purchase.groupby('datetime').size().reset_index(name='count')\n",
    "purchase_count = purchase_count.sort_values('datetime')"
   ]
  },
  {
   "cell_type": "code",
   "execution_count": 50,
   "metadata": {
    "execution": {
     "execution_failed": "2025-05-26T12:46:42.657Z"
    },
    "trusted": true
   },
   "outputs": [
    {
     "data": {
      "text/html": [
       "<div>\n",
       "<style scoped>\n",
       "    .dataframe tbody tr th:only-of-type {\n",
       "        vertical-align: middle;\n",
       "    }\n",
       "\n",
       "    .dataframe tbody tr th {\n",
       "        vertical-align: top;\n",
       "    }\n",
       "\n",
       "    .dataframe thead th {\n",
       "        text-align: right;\n",
       "    }\n",
       "</style>\n",
       "<table border=\"1\" class=\"dataframe\">\n",
       "  <thead>\n",
       "    <tr style=\"text-align: right;\">\n",
       "      <th></th>\n",
       "      <th>Day_of_Week</th>\n",
       "      <th>count</th>\n",
       "    </tr>\n",
       "  </thead>\n",
       "  <tbody>\n",
       "    <tr>\n",
       "      <th>1</th>\n",
       "      <td>Monday</td>\n",
       "      <td>1561222</td>\n",
       "    </tr>\n",
       "    <tr>\n",
       "      <th>5</th>\n",
       "      <td>Tuesday</td>\n",
       "      <td>301505</td>\n",
       "    </tr>\n",
       "    <tr>\n",
       "      <th>6</th>\n",
       "      <td>Wednesday</td>\n",
       "      <td>328992</td>\n",
       "    </tr>\n",
       "    <tr>\n",
       "      <th>4</th>\n",
       "      <td>Thursday</td>\n",
       "      <td>299829</td>\n",
       "    </tr>\n",
       "    <tr>\n",
       "      <th>0</th>\n",
       "      <td>Friday</td>\n",
       "      <td>280995</td>\n",
       "    </tr>\n",
       "    <tr>\n",
       "      <th>2</th>\n",
       "      <td>Saturday</td>\n",
       "      <td>246332</td>\n",
       "    </tr>\n",
       "    <tr>\n",
       "      <th>3</th>\n",
       "      <td>Sunday</td>\n",
       "      <td>258833</td>\n",
       "    </tr>\n",
       "  </tbody>\n",
       "</table>\n",
       "</div>"
      ],
      "text/plain": [
       "  Day_of_Week    count\n",
       "1      Monday  1561222\n",
       "5     Tuesday   301505\n",
       "6   Wednesday   328992\n",
       "4    Thursday   299829\n",
       "0      Friday   280995\n",
       "2    Saturday   246332\n",
       "3      Sunday   258833"
      ]
     },
     "execution_count": 50,
     "metadata": {},
     "output_type": "execute_result"
    }
   ],
   "source": [
    "days_order = ['Monday', 'Tuesday', 'Wednesday', 'Thursday', 'Friday', 'Saturday', 'Sunday']\n",
    "purchase_day_of_week = purchase.groupby('Day_of_Week').size().reset_index(name='count')\n",
    "# used for ordinal data where the order matters\n",
    "purchase_day_of_week['Day_of_Week'] = pd.Categorical(purchase_day_of_week['Day_of_Week'], categories=days_order, ordered=True)\n",
    "purchase_day_of_week = purchase_day_of_week.sort_values('Day_of_Week')\n",
    "purchase_day_of_week"
   ]
  },
  {
   "cell_type": "markdown",
   "metadata": {},
   "source": [
    "\n",
    "- Group by month and calculate the total number of purchases each month"
   ]
  },
  {
   "cell_type": "code",
   "execution_count": null,
   "metadata": {
    "execution": {
     "execution_failed": "2025-05-26T12:46:42.657Z"
    },
    "trusted": true
   },
   "outputs": [
    {
     "data": {
      "image/png": "[encoded data removed]",
      "text/plain": [
       "<Figure size 1000x500 with 1 Axes>"
      ]
     },
     "metadata": {},
     "output_type": "display_data"
    }
   ],
   "source": [
    "import matplotlib.pyplot as plt\n",
    "import matplotlib.dates as mdates\n",
    "\n",
    "purchase_monthly = purchase_count.groupby(purchase_count['datetime'].dt.to_period('M')).agg({'count': 'sum'}).reset_index()\n",
    "purchase_monthly['datetime'] = purchase_monthly['datetime'].dt.to_timestamp()\n",
    "\n",
    "plt.figure(figsize=(10, 5))\n",
    "plt.plot(purchase_monthly['datetime'], purchase_monthly['count'], marker='o', color='tomato')\n",
    "plt.xlabel('Month', fontsize=14)\n",
    "plt.ylabel('Sum of Purchases', fontsize=14)\n",
    "plt.title('Calculate the total number of purchases per month', fontsize=16)\n",
    "plt.xticks(rotation=45)\n",
    "plt.gca().xaxis.set_major_formatter(mdates.DateFormatter('%Y-%m'))\n",
    "plt.tight_layout()\n",
    "plt.show()\n"
   ]
  },
  {
   "cell_type": "code",
   "execution_count": null,
   "metadata": {
    "execution": {
     "execution_failed": "2025-05-26T12:46:42.657Z"
    },
    "trusted": true
   },
   "outputs": [
    {
     "data": {
      "image/png": "[encoded data removed]",
      "text/plain": [
       "<Figure size 1500x400 with 2 Axes>"
      ]
     },
     "metadata": {},
     "output_type": "display_data"
    }
   ],
   "source": [
    "import matplotlib.pyplot as plt\n",
    "\n",
    "f, (ax1, ax2) = plt.subplots(1, 2, figsize=(15, 4))\n",
    "\n",
    "november = purchase_count[purchase_count['datetime'].dt.month == 11]\n",
    "\n",
    "ax1.plot(purchase_day_of_week['Day_of_Week'], purchase_day_of_week['count'], color='red', marker='o')\n",
    "ax1.set_xlabel('Day of Week', fontsize=18)\n",
    "ax1.set_ylabel('Count of \"Buy\"', fontsize=18)\n",
    "ax1.tick_params(axis='x', rotation=45)\n",
    "\n",
    "ax2.plot(november['datetime'], november['count'], color='red', marker='o')\n",
    "ax2.set_xlabel('Date (Nov)', fontsize=18)\n",
    "ax2.set_ylabel('Daily Count', fontsize=18)\n",
    "ax2.tick_params(axis='x', rotation=45)\n",
    "\n",
    "f.suptitle('Counts of \"Purchase\" Action — Filtered for November', fontsize=20)\n",
    "plt.subplots_adjust(wspace=0.3)\n",
    "plt.savefig('Purchase_Count_November.png', format='png', bbox_inches='tight')\n",
    "plt.show()\n"
   ]
  },
  {
   "cell_type": "code",
   "execution_count": null,
   "metadata": {
    "execution": {
     "execution_failed": "2025-05-26T12:46:42.657Z"
    },
    "trusted": true
   },
   "outputs": [
    {
     "data": {
      "text/html": [
       "<div>\n",
       "<style scoped>\n",
       "    .dataframe tbody tr th:only-of-type {\n",
       "        vertical-align: middle;\n",
       "    }\n",
       "\n",
       "    .dataframe tbody tr th {\n",
       "        vertical-align: top;\n",
       "    }\n",
       "\n",
       "    .dataframe thead th {\n",
       "        text-align: right;\n",
       "    }\n",
       "</style>\n",
       "<table border=\"1\" class=\"dataframe\">\n",
       "  <thead>\n",
       "    <tr style=\"text-align: right;\">\n",
       "      <th></th>\n",
       "      <th>datetime</th>\n",
       "      <th>count</th>\n",
       "    </tr>\n",
       "  </thead>\n",
       "  <tbody>\n",
       "    <tr>\n",
       "      <th>184</th>\n",
       "      <td>2024-11-11</td>\n",
       "      <td>1220285</td>\n",
       "    </tr>\n",
       "    <tr>\n",
       "      <th>121</th>\n",
       "      <td>2024-09-09</td>\n",
       "      <td>30844</td>\n",
       "    </tr>\n",
       "    <tr>\n",
       "      <th>46</th>\n",
       "      <td>2024-06-26</td>\n",
       "      <td>26450</td>\n",
       "    </tr>\n",
       "    <tr>\n",
       "      <th>37</th>\n",
       "      <td>2024-06-17</td>\n",
       "      <td>25573</td>\n",
       "    </tr>\n",
       "    <tr>\n",
       "      <th>163</th>\n",
       "      <td>2024-10-21</td>\n",
       "      <td>20081</td>\n",
       "    </tr>\n",
       "    <tr>\n",
       "      <th>137</th>\n",
       "      <td>2024-09-25</td>\n",
       "      <td>19001</td>\n",
       "    </tr>\n",
       "    <tr>\n",
       "      <th>160</th>\n",
       "      <td>2024-10-18</td>\n",
       "      <td>18137</td>\n",
       "    </tr>\n",
       "    <tr>\n",
       "      <th>158</th>\n",
       "      <td>2024-10-16</td>\n",
       "      <td>17703</td>\n",
       "    </tr>\n",
       "    <tr>\n",
       "      <th>183</th>\n",
       "      <td>2024-11-10</td>\n",
       "      <td>17175</td>\n",
       "    </tr>\n",
       "    <tr>\n",
       "      <th>159</th>\n",
       "      <td>2024-10-17</td>\n",
       "      <td>16950</td>\n",
       "    </tr>\n",
       "  </tbody>\n",
       "</table>\n",
       "</div>"
      ],
      "text/plain": [
       "      datetime    count\n",
       "184 2024-11-11  1220285\n",
       "121 2024-09-09    30844\n",
       "46  2024-06-26    26450\n",
       "37  2024-06-17    25573\n",
       "163 2024-10-21    20081\n",
       "137 2024-09-25    19001\n",
       "160 2024-10-18    18137\n",
       "158 2024-10-16    17703\n",
       "183 2024-11-10    17175\n",
       "159 2024-10-17    16950"
      ]
     },
     "execution_count": 53,
     "metadata": {},
     "output_type": "execute_result"
    }
   ],
   "source": [
    "\n",
    "top_purchase_days = purchase_count.sort_values(by='count', ascending=False)\n",
    "top_purchase_days.head(10)\n"
   ]
  },
  {
   "cell_type": "code",
   "execution_count": null,
   "metadata": {},
   "outputs": [
    {
     "data": {
      "image/png": "[encoded data removed]",
      "text/plain": [
       "<Figure size 800x600 with 2 Axes>"
      ]
     },
     "metadata": {},
     "output_type": "display_data"
    }
   ],
   "source": [
    "import pandas as pd\n",
    "import seaborn as sns\n",
    "import matplotlib.pyplot as plt\n",
    "\n",
    "\n",
    "heat_data = user_behavior.pivot_table(\n",
    "    index='age_range',\n",
    "    columns='sex',\n",
    "    values='num_purchases',\n",
    "    aggfunc='sum',\n",
    "    fill_value=0\n",
    ")\n",
    "\n",
    "plt.figure(figsize=(8, 6))\n",
    "sns.heatmap(heat_data, annot=True, fmt=\".0f\", cmap=\"Reds\")\n",
    "plt.title(\"Tổng lượt mua theo giới tính và nhóm tuổi\", fontsize=14)\n",
    "plt.xlabel(\"Giới tính\")\n",
    "plt.ylabel(\"Nhóm tuổi\")\n",
    "plt.tight_layout()\n",
    "plt.show()"
   ]
  },
  {
   "cell_type": "code",
   "execution_count": null,
   "metadata": {},
   "outputs": [
    {
     "data": {
      "image/png": "[encoded data removed]",
      "text/plain": [
       "<Figure size 1200x600 with 1 Axes>"
      ]
     },
     "metadata": {},
     "output_type": "display_data"
    }
   ],
   "source": [
    "import matplotlib.pyplot as plt\n",
    "import seaborn as sns\n",
    "\n",
    "# Total number of actions (all) by product category (cat_id)\n",
    "total_actions = user_log.groupby('cat_id').size().reset_index(name='total_actions')\n",
    "\n",
    "# Total number of purchases by product category (cat_id)\n",
    "purchase_counts = user_log[user_log['action'] == 'purchase'].groupby('cat_id').size().reset_index(name='purchase_counts')\n",
    "\n",
    "# Merge the two dataframes\n",
    "agg_data = total_actions.merge(purchase_counts, on='cat_id', how='left')\n",
    "agg_data['purchase_counts'] = agg_data['purchase_counts'].fillna(0)\n",
    "\n",
    "# Sort by total actions\n",
    "agg_data = agg_data.sort_values(by='total_actions', ascending=False)\n",
    "\n",
    "# Select top 10 product categories\n",
    "top_10 = agg_data.head(10)\n",
    "\n",
    "# Create a red color palette from light to dark for the two bars\n",
    "colors = sns.color_palette(\"Reds\", 2)\n",
    "\n",
    "# Plot the grouped bar chart\n",
    "plt.figure(figsize=(12, 6))\n",
    "\n",
    "bar_width = 0.4\n",
    "indices = range(len(top_10))\n",
    "\n",
    "plt.bar(indices, top_10['total_actions'], width=bar_width, label='Total Actions', color=colors[0])\n",
    "plt.bar([i + bar_width for i in indices], top_10['purchase_counts'], width=bar_width, label='Number of Purchases', color=colors[1])\n",
    "\n",
    "plt.xlabel('Product Category (cat_id)', fontsize=12)\n",
    "plt.ylabel('Count', fontsize=12)\n",
    "plt.title('Top 10 Most Viewed and Purchased Product Categories', fontsize=14)\n",
    "plt.xticks([i + bar_width / 2 for i in indices], top_10['cat_id'], rotation=45)\n",
    "plt.legend()\n",
    "plt.tight_layout()\n",
    "plt.show()"
   ]
  },
  {
   "cell_type": "markdown",
   "metadata": {},
   "source": [
    "- Filter the user_log dataframe for product category 662 and purchases only.\n",
    "\n",
    "- Merge with user_info dataframe to get users' gender.\n",
    "\n",
    "- Group by gender to count the number of purchases.\n",
    "\n",
    "- Plot a bar chart showing purchase counts by gender."
   ]
  },
  {
   "cell_type": "code",
   "execution_count": null,
   "metadata": {},
   "outputs": [
    {
     "data": {
      "image/png": "[encoded data removed]",
      "text/plain": [
       "<Figure size 600x500 with 1 Axes>"
      ]
     },
     "metadata": {},
     "output_type": "display_data"
    }
   ],
   "source": [
    "import matplotlib.pyplot as plt\n",
    "import seaborn as sns\n",
    "\n",
    "purchase_662 = user_log[(user_log['cat_id'] == 662) & (user_log['action'] == 'purchase')]\n",
    "\n",
    "purchase_662 = purchase_662.merge(user_info[['user_id', 'sex']], on='user_id', how='left')\n",
    "\n",
    "gender_purchase_counts = purchase_662.groupby('sex').size().reset_index(name='purchase_counts')\n",
    "\n",
    "plt.figure(figsize=(6, 5))\n",
    "colors = sns.color_palette(\"Reds\", n_colors=len(gender_purchase_counts))\n",
    "\n",
    "sns.barplot(data=gender_purchase_counts, x='sex', y='purchase_counts', palette=colors)\n",
    "\n",
    "plt.xlabel('Gender', fontsize=12)\n",
    "plt.ylabel('Number of purchases for product category 662', fontsize=12)\n",
    "plt.title('Number of purchases for product category 662 by gender', fontsize=14)\n",
    "plt.tight_layout()\n",
    "plt.show()\n"
   ]
  },
  {
   "cell_type": "code",
   "execution_count": 97,
   "metadata": {},
   "outputs": [
    {
     "name": "stdout",
     "output_type": "stream",
     "text": [
      "Number of users who purchased throughout the entire period: 10846\n"
     ]
    }
   ],
   "source": [
    "import pandas as pd\n",
    "\n",
    "# Ensure 'datetime' column is in datetime format\n",
    "user_log['datetime'] = pd.to_datetime(user_log['datetime'])\n",
    "\n",
    "# Create a 'year_month' column\n",
    "user_log['year_month'] = user_log['datetime'].dt.to_period('M')\n",
    "\n",
    "# Filter rows where action is 'purchase'\n",
    "purchase_logs = user_log[user_log['action'] == 'purchase']\n",
    "\n",
    "# Calculate total number of unique months in the data\n",
    "total_months = purchase_logs['year_month'].nunique()\n",
    "\n",
    "# Count the number of unique months each user made a purchase\n",
    "user_month_counts = purchase_logs.groupby('user_id')['year_month'].nunique().reset_index()\n",
    "user_month_counts.rename(columns={'year_month': 'num_purchase_months'}, inplace=True)\n",
    "\n",
    "# Filter users who purchased in all months\n",
    "loyal_buyers = user_month_counts[user_month_counts['num_purchase_months'] == total_months]\n",
    "\n",
    "# Result: Number of users who purchased continuously throughout the entire period\n",
    "print(\"Number of users who purchased throughout the entire period:\", len(loyal_buyers))\n"
   ]
  },
  {
   "cell_type": "markdown",
   "metadata": {},
   "source": [
    "This code calculates the recency metric for each user based on their purchase history. First, it converts the datetime column to a proper datetime format and filters the data to keep only purchase actions. Then, it finds the most recent purchase date for each user by grouping their purchase records and selecting the maximum date. The overall latest purchase date in the dataset is used as a reference point. Finally, the code computes the recency value for each user by calculating the number of days between their last purchase and this reference date. This recency metric indicates how recently each user made a purchase, with lower values meaning more recent activity."
   ]
  },
  {
   "cell_type": "code",
   "execution_count": null,
   "metadata": {},
   "outputs": [
    {
     "data": {
      "text/html": [
       "<div>\n",
       "<style scoped>\n",
       "    .dataframe tbody tr th:only-of-type {\n",
       "        vertical-align: middle;\n",
       "    }\n",
       "\n",
       "    .dataframe tbody tr th {\n",
       "        vertical-align: top;\n",
       "    }\n",
       "\n",
       "    .dataframe thead th {\n",
       "        text-align: right;\n",
       "    }\n",
       "</style>\n",
       "<table border=\"1\" class=\"dataframe\">\n",
       "  <thead>\n",
       "    <tr style=\"text-align: right;\">\n",
       "      <th></th>\n",
       "      <th>user_id</th>\n",
       "      <th>last_purchase_date</th>\n",
       "      <th>Recency</th>\n",
       "    </tr>\n",
       "  </thead>\n",
       "  <tbody>\n",
       "    <tr>\n",
       "      <th>0</th>\n",
       "      <td>1</td>\n",
       "      <td>2024-11-11</td>\n",
       "      <td>0</td>\n",
       "    </tr>\n",
       "    <tr>\n",
       "      <th>1</th>\n",
       "      <td>2</td>\n",
       "      <td>2024-11-11</td>\n",
       "      <td>0</td>\n",
       "    </tr>\n",
       "    <tr>\n",
       "      <th>2</th>\n",
       "      <td>3</td>\n",
       "      <td>2024-11-11</td>\n",
       "      <td>0</td>\n",
       "    </tr>\n",
       "    <tr>\n",
       "      <th>3</th>\n",
       "      <td>4</td>\n",
       "      <td>2024-11-11</td>\n",
       "      <td>0</td>\n",
       "    </tr>\n",
       "    <tr>\n",
       "      <th>4</th>\n",
       "      <td>5</td>\n",
       "      <td>2024-11-11</td>\n",
       "      <td>0</td>\n",
       "    </tr>\n",
       "  </tbody>\n",
       "</table>\n",
       "</div>"
      ],
      "text/plain": [
       "   user_id last_purchase_date  Recency\n",
       "0        1         2024-11-11        0\n",
       "1        2         2024-11-11        0\n",
       "2        3         2024-11-11        0\n",
       "3        4         2024-11-11        0\n",
       "4        5         2024-11-11        0"
      ]
     },
     "execution_count": 78,
     "metadata": {},
     "output_type": "execute_result"
    }
   ],
   "source": [
    "import pandas as pd\n",
    "\n",
    "user_log['datetime'] = pd.to_datetime(user_log['datetime'])\n",
    "\n",
    "buy_logs = user_log[user_log['action'] == 'purchase']\n",
    "\n",
    "recency = buy_logs.groupby('user_id', as_index=False)['datetime'].max()\n",
    "recency.columns = ['user_id', 'last_purchase_date']\n",
    "\n",
    "current_date = buy_logs['datetime'].max()\n",
    "\n",
    "recency['Recency'] = recency['last_purchase_date'].apply(lambda x: (current_date - x).days)\n",
    "\n",
    "recency.head()\n"
   ]
  },
  {
   "cell_type": "code",
   "execution_count": 80,
   "metadata": {},
   "outputs": [
    {
     "data": {
      "text/html": [
       "<div>\n",
       "<style scoped>\n",
       "    .dataframe tbody tr th:only-of-type {\n",
       "        vertical-align: middle;\n",
       "    }\n",
       "\n",
       "    .dataframe tbody tr th {\n",
       "        vertical-align: top;\n",
       "    }\n",
       "\n",
       "    .dataframe thead th {\n",
       "        text-align: right;\n",
       "    }\n",
       "</style>\n",
       "<table border=\"1\" class=\"dataframe\">\n",
       "  <thead>\n",
       "    <tr style=\"text-align: right;\">\n",
       "      <th></th>\n",
       "      <th>user_id</th>\n",
       "      <th>last_purchase_date</th>\n",
       "      <th>Recency</th>\n",
       "    </tr>\n",
       "  </thead>\n",
       "  <tbody>\n",
       "    <tr>\n",
       "      <th>0</th>\n",
       "      <td>1</td>\n",
       "      <td>2024-11-11</td>\n",
       "      <td>0</td>\n",
       "    </tr>\n",
       "    <tr>\n",
       "      <th>1</th>\n",
       "      <td>2</td>\n",
       "      <td>2024-11-11</td>\n",
       "      <td>0</td>\n",
       "    </tr>\n",
       "    <tr>\n",
       "      <th>2</th>\n",
       "      <td>3</td>\n",
       "      <td>2024-11-11</td>\n",
       "      <td>0</td>\n",
       "    </tr>\n",
       "    <tr>\n",
       "      <th>3</th>\n",
       "      <td>4</td>\n",
       "      <td>2024-11-11</td>\n",
       "      <td>0</td>\n",
       "    </tr>\n",
       "    <tr>\n",
       "      <th>4</th>\n",
       "      <td>5</td>\n",
       "      <td>2024-11-11</td>\n",
       "      <td>0</td>\n",
       "    </tr>\n",
       "    <tr>\n",
       "      <th>...</th>\n",
       "      <td>...</td>\n",
       "      <td>...</td>\n",
       "      <td>...</td>\n",
       "    </tr>\n",
       "    <tr>\n",
       "      <th>424119</th>\n",
       "      <td>424166</td>\n",
       "      <td>2024-11-11</td>\n",
       "      <td>0</td>\n",
       "    </tr>\n",
       "    <tr>\n",
       "      <th>424120</th>\n",
       "      <td>424167</td>\n",
       "      <td>2024-11-11</td>\n",
       "      <td>0</td>\n",
       "    </tr>\n",
       "    <tr>\n",
       "      <th>424121</th>\n",
       "      <td>424168</td>\n",
       "      <td>2024-11-11</td>\n",
       "      <td>0</td>\n",
       "    </tr>\n",
       "    <tr>\n",
       "      <th>424122</th>\n",
       "      <td>424169</td>\n",
       "      <td>2024-11-11</td>\n",
       "      <td>0</td>\n",
       "    </tr>\n",
       "    <tr>\n",
       "      <th>424123</th>\n",
       "      <td>424170</td>\n",
       "      <td>2024-11-11</td>\n",
       "      <td>0</td>\n",
       "    </tr>\n",
       "  </tbody>\n",
       "</table>\n",
       "<p>424124 rows × 3 columns</p>\n",
       "</div>"
      ],
      "text/plain": [
       "        user_id last_purchase_date  Recency\n",
       "0             1         2024-11-11        0\n",
       "1             2         2024-11-11        0\n",
       "2             3         2024-11-11        0\n",
       "3             4         2024-11-11        0\n",
       "4             5         2024-11-11        0\n",
       "...         ...                ...      ...\n",
       "424119   424166         2024-11-11        0\n",
       "424120   424167         2024-11-11        0\n",
       "424121   424168         2024-11-11        0\n",
       "424122   424169         2024-11-11        0\n",
       "424123   424170         2024-11-11        0\n",
       "\n",
       "[424124 rows x 3 columns]"
      ]
     },
     "execution_count": 80,
     "metadata": {},
     "output_type": "execute_result"
    }
   ],
   "source": [
    "recency"
   ]
  },
  {
   "cell_type": "markdown",
   "metadata": {},
   "source": [
    "Filter user logs for purchase actions\n",
    "\n",
    "Group by user_id and count purchases\n",
    "\n",
    "Store counts as frequency per user\n",
    "\n",
    "Display first few records"
   ]
  },
  {
   "cell_type": "code",
   "execution_count": null,
   "metadata": {},
   "outputs": [
    {
     "name": "stdout",
     "output_type": "stream",
     "text": [
      "   user_id  frequency\n",
      "0        1          6\n",
      "1        2         14\n",
      "2        3          4\n",
      "3        4          1\n",
      "4        5         12\n"
     ]
    }
   ],
   "source": [
    "\n",
    "purchase_log = user_log[user_log['action'] == 'purchase']\n",
    "\n",
    "frequency_df = purchase_log.groupby('user_id').size().reset_index(name='frequency')\n",
    "print(frequency_df.head())"
   ]
  },
  {
   "cell_type": "code",
   "execution_count": 82,
   "metadata": {},
   "outputs": [
    {
     "data": {
      "text/html": [
       "<div>\n",
       "<style scoped>\n",
       "    .dataframe tbody tr th:only-of-type {\n",
       "        vertical-align: middle;\n",
       "    }\n",
       "\n",
       "    .dataframe tbody tr th {\n",
       "        vertical-align: top;\n",
       "    }\n",
       "\n",
       "    .dataframe thead th {\n",
       "        text-align: right;\n",
       "    }\n",
       "</style>\n",
       "<table border=\"1\" class=\"dataframe\">\n",
       "  <thead>\n",
       "    <tr style=\"text-align: right;\">\n",
       "      <th></th>\n",
       "      <th>user_id</th>\n",
       "      <th>sex</th>\n",
       "      <th>job</th>\n",
       "      <th>carrier</th>\n",
       "      <th>marital_status</th>\n",
       "      <th>age_range</th>\n",
       "      <th>num_add_to_cart</th>\n",
       "      <th>num_clicks</th>\n",
       "      <th>num_favourites</th>\n",
       "      <th>num_purchases</th>\n",
       "      <th>num_unique_items</th>\n",
       "      <th>num_unique_cats</th>\n",
       "      <th>num_unique_brands</th>\n",
       "      <th>num_unique_merchants</th>\n",
       "      <th>num_active_days</th>\n",
       "      <th>action</th>\n",
       "      <th>datetime</th>\n",
       "      <th>Recency</th>\n",
       "      <th>Frequency</th>\n",
       "    </tr>\n",
       "  </thead>\n",
       "  <tbody>\n",
       "    <tr>\n",
       "      <th>0</th>\n",
       "      <td>376517</td>\n",
       "      <td>M</td>\n",
       "      <td>Thực tập sinh giáo dục</td>\n",
       "      <td>other</td>\n",
       "      <td>Married</td>\n",
       "      <td>36-60</td>\n",
       "      <td>0</td>\n",
       "      <td>73</td>\n",
       "      <td>1</td>\n",
       "      <td>5</td>\n",
       "      <td>39</td>\n",
       "      <td>17</td>\n",
       "      <td>20</td>\n",
       "      <td>20</td>\n",
       "      <td>6</td>\n",
       "      <td>79</td>\n",
       "      <td>2024-11-11</td>\n",
       "      <td>1</td>\n",
       "      <td>79</td>\n",
       "    </tr>\n",
       "    <tr>\n",
       "      <th>1</th>\n",
       "      <td>234512</td>\n",
       "      <td>F</td>\n",
       "      <td>unknown</td>\n",
       "      <td>vietnamobile</td>\n",
       "      <td>Married</td>\n",
       "      <td>36-60</td>\n",
       "      <td>0</td>\n",
       "      <td>47</td>\n",
       "      <td>2</td>\n",
       "      <td>7</td>\n",
       "      <td>29</td>\n",
       "      <td>18</td>\n",
       "      <td>20</td>\n",
       "      <td>21</td>\n",
       "      <td>7</td>\n",
       "      <td>56</td>\n",
       "      <td>2024-11-11</td>\n",
       "      <td>1</td>\n",
       "      <td>56</td>\n",
       "    </tr>\n",
       "    <tr>\n",
       "      <th>2</th>\n",
       "      <td>344532</td>\n",
       "      <td>F</td>\n",
       "      <td>DevOps Engineer</td>\n",
       "      <td>other</td>\n",
       "      <td>Married</td>\n",
       "      <td>36-60</td>\n",
       "      <td>0</td>\n",
       "      <td>64</td>\n",
       "      <td>19</td>\n",
       "      <td>8</td>\n",
       "      <td>54</td>\n",
       "      <td>25</td>\n",
       "      <td>21</td>\n",
       "      <td>20</td>\n",
       "      <td>7</td>\n",
       "      <td>91</td>\n",
       "      <td>2024-11-11</td>\n",
       "      <td>1</td>\n",
       "      <td>91</td>\n",
       "    </tr>\n",
       "    <tr>\n",
       "      <th>3</th>\n",
       "      <td>186135</td>\n",
       "      <td>F</td>\n",
       "      <td>Thực tập sinh giáo dục</td>\n",
       "      <td>vietnamobile</td>\n",
       "      <td>Married</td>\n",
       "      <td>36-60</td>\n",
       "      <td>0</td>\n",
       "      <td>193</td>\n",
       "      <td>5</td>\n",
       "      <td>2</td>\n",
       "      <td>21</td>\n",
       "      <td>11</td>\n",
       "      <td>10</td>\n",
       "      <td>11</td>\n",
       "      <td>5</td>\n",
       "      <td>200</td>\n",
       "      <td>2024-11-11</td>\n",
       "      <td>1</td>\n",
       "      <td>200</td>\n",
       "    </tr>\n",
       "    <tr>\n",
       "      <th>4</th>\n",
       "      <td>30230</td>\n",
       "      <td>F</td>\n",
       "      <td>DevOps Engineer</td>\n",
       "      <td>viettel</td>\n",
       "      <td>Married</td>\n",
       "      <td>36-60</td>\n",
       "      <td>0</td>\n",
       "      <td>29</td>\n",
       "      <td>0</td>\n",
       "      <td>3</td>\n",
       "      <td>24</td>\n",
       "      <td>13</td>\n",
       "      <td>14</td>\n",
       "      <td>14</td>\n",
       "      <td>5</td>\n",
       "      <td>32</td>\n",
       "      <td>2024-11-11</td>\n",
       "      <td>1</td>\n",
       "      <td>32</td>\n",
       "    </tr>\n",
       "    <tr>\n",
       "      <th>...</th>\n",
       "      <td>...</td>\n",
       "      <td>...</td>\n",
       "      <td>...</td>\n",
       "      <td>...</td>\n",
       "      <td>...</td>\n",
       "      <td>...</td>\n",
       "      <td>...</td>\n",
       "      <td>...</td>\n",
       "      <td>...</td>\n",
       "      <td>...</td>\n",
       "      <td>...</td>\n",
       "      <td>...</td>\n",
       "      <td>...</td>\n",
       "      <td>...</td>\n",
       "      <td>...</td>\n",
       "      <td>...</td>\n",
       "      <td>...</td>\n",
       "      <td>...</td>\n",
       "      <td>...</td>\n",
       "    </tr>\n",
       "    <tr>\n",
       "      <th>424165</th>\n",
       "      <td>395814</td>\n",
       "      <td>M</td>\n",
       "      <td>Kiến trúc sư phần mềm</td>\n",
       "      <td>vinaphone</td>\n",
       "      <td>Married</td>\n",
       "      <td>18-26</td>\n",
       "      <td>0</td>\n",
       "      <td>61</td>\n",
       "      <td>3</td>\n",
       "      <td>1</td>\n",
       "      <td>40</td>\n",
       "      <td>6</td>\n",
       "      <td>20</td>\n",
       "      <td>20</td>\n",
       "      <td>2</td>\n",
       "      <td>65</td>\n",
       "      <td>2024-11-11</td>\n",
       "      <td>1</td>\n",
       "      <td>65</td>\n",
       "    </tr>\n",
       "    <tr>\n",
       "      <th>424166</th>\n",
       "      <td>245950</td>\n",
       "      <td>M</td>\n",
       "      <td>Tư vấn khách hàng</td>\n",
       "      <td>other</td>\n",
       "      <td>Divorced</td>\n",
       "      <td>27-30</td>\n",
       "      <td>0</td>\n",
       "      <td>27</td>\n",
       "      <td>0</td>\n",
       "      <td>6</td>\n",
       "      <td>14</td>\n",
       "      <td>11</td>\n",
       "      <td>6</td>\n",
       "      <td>5</td>\n",
       "      <td>2</td>\n",
       "      <td>33</td>\n",
       "      <td>2024-11-11</td>\n",
       "      <td>1</td>\n",
       "      <td>33</td>\n",
       "    </tr>\n",
       "    <tr>\n",
       "      <th>424167</th>\n",
       "      <td>208016</td>\n",
       "      <td>F</td>\n",
       "      <td>Trưởng phòng kinh doanh</td>\n",
       "      <td>viettel</td>\n",
       "      <td>Married</td>\n",
       "      <td>36-60</td>\n",
       "      <td>0</td>\n",
       "      <td>52</td>\n",
       "      <td>0</td>\n",
       "      <td>2</td>\n",
       "      <td>27</td>\n",
       "      <td>3</td>\n",
       "      <td>7</td>\n",
       "      <td>7</td>\n",
       "      <td>2</td>\n",
       "      <td>54</td>\n",
       "      <td>2024-11-11</td>\n",
       "      <td>1</td>\n",
       "      <td>54</td>\n",
       "    </tr>\n",
       "    <tr>\n",
       "      <th>424168</th>\n",
       "      <td>272535</td>\n",
       "      <td>M</td>\n",
       "      <td>Dược sĩ</td>\n",
       "      <td>vinaphone</td>\n",
       "      <td>Married</td>\n",
       "      <td>36-60</td>\n",
       "      <td>0</td>\n",
       "      <td>35</td>\n",
       "      <td>0</td>\n",
       "      <td>3</td>\n",
       "      <td>16</td>\n",
       "      <td>7</td>\n",
       "      <td>13</td>\n",
       "      <td>13</td>\n",
       "      <td>2</td>\n",
       "      <td>38</td>\n",
       "      <td>2024-11-11</td>\n",
       "      <td>1</td>\n",
       "      <td>38</td>\n",
       "    </tr>\n",
       "    <tr>\n",
       "      <th>424169</th>\n",
       "      <td>18031</td>\n",
       "      <td>M</td>\n",
       "      <td>Dược sĩ</td>\n",
       "      <td>vinaphone</td>\n",
       "      <td>Single</td>\n",
       "      <td>18-26</td>\n",
       "      <td>0</td>\n",
       "      <td>18</td>\n",
       "      <td>0</td>\n",
       "      <td>1</td>\n",
       "      <td>4</td>\n",
       "      <td>2</td>\n",
       "      <td>2</td>\n",
       "      <td>1</td>\n",
       "      <td>2</td>\n",
       "      <td>19</td>\n",
       "      <td>2024-11-11</td>\n",
       "      <td>1</td>\n",
       "      <td>19</td>\n",
       "    </tr>\n",
       "  </tbody>\n",
       "</table>\n",
       "<p>424170 rows × 19 columns</p>\n",
       "</div>"
      ],
      "text/plain": [
       "        user_id sex                      job       carrier marital_status  \\\n",
       "0        376517   M   Thực tập sinh giáo dục         other        Married   \n",
       "1        234512   F                  unknown  vietnamobile        Married   \n",
       "2        344532   F          DevOps Engineer         other        Married   \n",
       "3        186135   F   Thực tập sinh giáo dục  vietnamobile        Married   \n",
       "4         30230   F          DevOps Engineer       viettel        Married   \n",
       "...         ...  ..                      ...           ...            ...   \n",
       "424165   395814   M    Kiến trúc sư phần mềm     vinaphone        Married   \n",
       "424166   245950   M        Tư vấn khách hàng         other       Divorced   \n",
       "424167   208016   F  Trưởng phòng kinh doanh       viettel        Married   \n",
       "424168   272535   M                  Dược sĩ     vinaphone        Married   \n",
       "424169    18031   M                  Dược sĩ     vinaphone         Single   \n",
       "\n",
       "       age_range  num_add_to_cart  num_clicks  num_favourites  num_purchases  \\\n",
       "0          36-60                0          73               1              5   \n",
       "1          36-60                0          47               2              7   \n",
       "2          36-60                0          64              19              8   \n",
       "3          36-60                0         193               5              2   \n",
       "4          36-60                0          29               0              3   \n",
       "...          ...              ...         ...             ...            ...   \n",
       "424165     18-26                0          61               3              1   \n",
       "424166     27-30                0          27               0              6   \n",
       "424167     36-60                0          52               0              2   \n",
       "424168     36-60                0          35               0              3   \n",
       "424169     18-26                0          18               0              1   \n",
       "\n",
       "        num_unique_items  num_unique_cats  num_unique_brands  \\\n",
       "0                     39               17                 20   \n",
       "1                     29               18                 20   \n",
       "2                     54               25                 21   \n",
       "3                     21               11                 10   \n",
       "4                     24               13                 14   \n",
       "...                  ...              ...                ...   \n",
       "424165                40                6                 20   \n",
       "424166                14               11                  6   \n",
       "424167                27                3                  7   \n",
       "424168                16                7                 13   \n",
       "424169                 4                2                  2   \n",
       "\n",
       "        num_unique_merchants  num_active_days  action   datetime  Recency  \\\n",
       "0                         20                6      79 2024-11-11        1   \n",
       "1                         21                7      56 2024-11-11        1   \n",
       "2                         20                7      91 2024-11-11        1   \n",
       "3                         11                5     200 2024-11-11        1   \n",
       "4                         14                5      32 2024-11-11        1   \n",
       "...                      ...              ...     ...        ...      ...   \n",
       "424165                    20                2      65 2024-11-11        1   \n",
       "424166                     5                2      33 2024-11-11        1   \n",
       "424167                     7                2      54 2024-11-11        1   \n",
       "424168                    13                2      38 2024-11-11        1   \n",
       "424169                     1                2      19 2024-11-11        1   \n",
       "\n",
       "        Frequency  \n",
       "0              79  \n",
       "1              56  \n",
       "2              91  \n",
       "3             200  \n",
       "4              32  \n",
       "...           ...  \n",
       "424165         65  \n",
       "424166         33  \n",
       "424167         54  \n",
       "424168         38  \n",
       "424169         19  \n",
       "\n",
       "[424170 rows x 19 columns]"
      ]
     },
     "execution_count": 82,
     "metadata": {},
     "output_type": "execute_result"
    }
   ],
   "source": [
    "user_behavior "
   ]
  },
  {
   "cell_type": "code",
   "execution_count": null,
   "metadata": {},
   "outputs": [],
   "source": [
    "\n",
    "user_metrics = recency.merge(frequency_df, on='user_id', how='outer')\n",
    "\n",
    "user_behavior = user_behavior.merge(user_metrics, on='user_id', how='left')\n"
   ]
  },
  {
   "cell_type": "code",
   "execution_count": 94,
   "metadata": {},
   "outputs": [
    {
     "data": {
      "text/html": [
       "<div>\n",
       "<style scoped>\n",
       "    .dataframe tbody tr th:only-of-type {\n",
       "        vertical-align: middle;\n",
       "    }\n",
       "\n",
       "    .dataframe tbody tr th {\n",
       "        vertical-align: top;\n",
       "    }\n",
       "\n",
       "    .dataframe thead th {\n",
       "        text-align: right;\n",
       "    }\n",
       "</style>\n",
       "<table border=\"1\" class=\"dataframe\">\n",
       "  <thead>\n",
       "    <tr style=\"text-align: right;\">\n",
       "      <th></th>\n",
       "      <th>user_id</th>\n",
       "      <th>sex</th>\n",
       "      <th>job</th>\n",
       "      <th>carrier</th>\n",
       "      <th>marital_status</th>\n",
       "      <th>age_range</th>\n",
       "      <th>num_add_to_cart</th>\n",
       "      <th>num_clicks</th>\n",
       "      <th>num_favourites</th>\n",
       "      <th>num_purchases</th>\n",
       "      <th>num_unique_items</th>\n",
       "      <th>num_unique_cats</th>\n",
       "      <th>num_unique_brands</th>\n",
       "      <th>num_unique_merchants</th>\n",
       "      <th>num_active_days</th>\n",
       "      <th>action</th>\n",
       "      <th>datetime</th>\n",
       "      <th>last_purchase_date</th>\n",
       "      <th>Recency</th>\n",
       "      <th>frequency</th>\n",
       "    </tr>\n",
       "  </thead>\n",
       "  <tbody>\n",
       "    <tr>\n",
       "      <th>0</th>\n",
       "      <td>376517</td>\n",
       "      <td>M</td>\n",
       "      <td>Thực tập sinh giáo dục</td>\n",
       "      <td>other</td>\n",
       "      <td>Married</td>\n",
       "      <td>36-60</td>\n",
       "      <td>0</td>\n",
       "      <td>73</td>\n",
       "      <td>1</td>\n",
       "      <td>5</td>\n",
       "      <td>39</td>\n",
       "      <td>17</td>\n",
       "      <td>20</td>\n",
       "      <td>20</td>\n",
       "      <td>6</td>\n",
       "      <td>79</td>\n",
       "      <td>2024-11-11</td>\n",
       "      <td>2024-11-11</td>\n",
       "      <td>0.0</td>\n",
       "      <td>5.0</td>\n",
       "    </tr>\n",
       "    <tr>\n",
       "      <th>1</th>\n",
       "      <td>234512</td>\n",
       "      <td>F</td>\n",
       "      <td>unknown</td>\n",
       "      <td>vietnamobile</td>\n",
       "      <td>Married</td>\n",
       "      <td>36-60</td>\n",
       "      <td>0</td>\n",
       "      <td>47</td>\n",
       "      <td>2</td>\n",
       "      <td>7</td>\n",
       "      <td>29</td>\n",
       "      <td>18</td>\n",
       "      <td>20</td>\n",
       "      <td>21</td>\n",
       "      <td>7</td>\n",
       "      <td>56</td>\n",
       "      <td>2024-11-11</td>\n",
       "      <td>2024-11-11</td>\n",
       "      <td>0.0</td>\n",
       "      <td>7.0</td>\n",
       "    </tr>\n",
       "    <tr>\n",
       "      <th>2</th>\n",
       "      <td>344532</td>\n",
       "      <td>F</td>\n",
       "      <td>DevOps Engineer</td>\n",
       "      <td>other</td>\n",
       "      <td>Married</td>\n",
       "      <td>36-60</td>\n",
       "      <td>0</td>\n",
       "      <td>64</td>\n",
       "      <td>19</td>\n",
       "      <td>8</td>\n",
       "      <td>54</td>\n",
       "      <td>25</td>\n",
       "      <td>21</td>\n",
       "      <td>20</td>\n",
       "      <td>7</td>\n",
       "      <td>91</td>\n",
       "      <td>2024-11-11</td>\n",
       "      <td>2024-11-11</td>\n",
       "      <td>0.0</td>\n",
       "      <td>8.0</td>\n",
       "    </tr>\n",
       "    <tr>\n",
       "      <th>3</th>\n",
       "      <td>186135</td>\n",
       "      <td>F</td>\n",
       "      <td>Thực tập sinh giáo dục</td>\n",
       "      <td>vietnamobile</td>\n",
       "      <td>Married</td>\n",
       "      <td>36-60</td>\n",
       "      <td>0</td>\n",
       "      <td>193</td>\n",
       "      <td>5</td>\n",
       "      <td>2</td>\n",
       "      <td>21</td>\n",
       "      <td>11</td>\n",
       "      <td>10</td>\n",
       "      <td>11</td>\n",
       "      <td>5</td>\n",
       "      <td>200</td>\n",
       "      <td>2024-11-11</td>\n",
       "      <td>2024-11-11</td>\n",
       "      <td>0.0</td>\n",
       "      <td>2.0</td>\n",
       "    </tr>\n",
       "    <tr>\n",
       "      <th>4</th>\n",
       "      <td>30230</td>\n",
       "      <td>F</td>\n",
       "      <td>DevOps Engineer</td>\n",
       "      <td>viettel</td>\n",
       "      <td>Married</td>\n",
       "      <td>36-60</td>\n",
       "      <td>0</td>\n",
       "      <td>29</td>\n",
       "      <td>0</td>\n",
       "      <td>3</td>\n",
       "      <td>24</td>\n",
       "      <td>13</td>\n",
       "      <td>14</td>\n",
       "      <td>14</td>\n",
       "      <td>5</td>\n",
       "      <td>32</td>\n",
       "      <td>2024-11-11</td>\n",
       "      <td>2024-11-11</td>\n",
       "      <td>0.0</td>\n",
       "      <td>3.0</td>\n",
       "    </tr>\n",
       "    <tr>\n",
       "      <th>...</th>\n",
       "      <td>...</td>\n",
       "      <td>...</td>\n",
       "      <td>...</td>\n",
       "      <td>...</td>\n",
       "      <td>...</td>\n",
       "      <td>...</td>\n",
       "      <td>...</td>\n",
       "      <td>...</td>\n",
       "      <td>...</td>\n",
       "      <td>...</td>\n",
       "      <td>...</td>\n",
       "      <td>...</td>\n",
       "      <td>...</td>\n",
       "      <td>...</td>\n",
       "      <td>...</td>\n",
       "      <td>...</td>\n",
       "      <td>...</td>\n",
       "      <td>...</td>\n",
       "      <td>...</td>\n",
       "      <td>...</td>\n",
       "    </tr>\n",
       "    <tr>\n",
       "      <th>424165</th>\n",
       "      <td>395814</td>\n",
       "      <td>M</td>\n",
       "      <td>Kiến trúc sư phần mềm</td>\n",
       "      <td>vinaphone</td>\n",
       "      <td>Married</td>\n",
       "      <td>18-26</td>\n",
       "      <td>0</td>\n",
       "      <td>61</td>\n",
       "      <td>3</td>\n",
       "      <td>1</td>\n",
       "      <td>40</td>\n",
       "      <td>6</td>\n",
       "      <td>20</td>\n",
       "      <td>20</td>\n",
       "      <td>2</td>\n",
       "      <td>65</td>\n",
       "      <td>2024-11-11</td>\n",
       "      <td>2024-11-11</td>\n",
       "      <td>0.0</td>\n",
       "      <td>1.0</td>\n",
       "    </tr>\n",
       "    <tr>\n",
       "      <th>424166</th>\n",
       "      <td>245950</td>\n",
       "      <td>M</td>\n",
       "      <td>Tư vấn khách hàng</td>\n",
       "      <td>other</td>\n",
       "      <td>Divorced</td>\n",
       "      <td>27-30</td>\n",
       "      <td>0</td>\n",
       "      <td>27</td>\n",
       "      <td>0</td>\n",
       "      <td>6</td>\n",
       "      <td>14</td>\n",
       "      <td>11</td>\n",
       "      <td>6</td>\n",
       "      <td>5</td>\n",
       "      <td>2</td>\n",
       "      <td>33</td>\n",
       "      <td>2024-11-11</td>\n",
       "      <td>2024-11-11</td>\n",
       "      <td>0.0</td>\n",
       "      <td>6.0</td>\n",
       "    </tr>\n",
       "    <tr>\n",
       "      <th>424167</th>\n",
       "      <td>208016</td>\n",
       "      <td>F</td>\n",
       "      <td>Trưởng phòng kinh doanh</td>\n",
       "      <td>viettel</td>\n",
       "      <td>Married</td>\n",
       "      <td>36-60</td>\n",
       "      <td>0</td>\n",
       "      <td>52</td>\n",
       "      <td>0</td>\n",
       "      <td>2</td>\n",
       "      <td>27</td>\n",
       "      <td>3</td>\n",
       "      <td>7</td>\n",
       "      <td>7</td>\n",
       "      <td>2</td>\n",
       "      <td>54</td>\n",
       "      <td>2024-11-11</td>\n",
       "      <td>2024-11-11</td>\n",
       "      <td>0.0</td>\n",
       "      <td>2.0</td>\n",
       "    </tr>\n",
       "    <tr>\n",
       "      <th>424168</th>\n",
       "      <td>272535</td>\n",
       "      <td>M</td>\n",
       "      <td>Dược sĩ</td>\n",
       "      <td>vinaphone</td>\n",
       "      <td>Married</td>\n",
       "      <td>36-60</td>\n",
       "      <td>0</td>\n",
       "      <td>35</td>\n",
       "      <td>0</td>\n",
       "      <td>3</td>\n",
       "      <td>16</td>\n",
       "      <td>7</td>\n",
       "      <td>13</td>\n",
       "      <td>13</td>\n",
       "      <td>2</td>\n",
       "      <td>38</td>\n",
       "      <td>2024-11-11</td>\n",
       "      <td>2024-11-11</td>\n",
       "      <td>0.0</td>\n",
       "      <td>3.0</td>\n",
       "    </tr>\n",
       "    <tr>\n",
       "      <th>424169</th>\n",
       "      <td>18031</td>\n",
       "      <td>M</td>\n",
       "      <td>Dược sĩ</td>\n",
       "      <td>vinaphone</td>\n",
       "      <td>Single</td>\n",
       "      <td>18-26</td>\n",
       "      <td>0</td>\n",
       "      <td>18</td>\n",
       "      <td>0</td>\n",
       "      <td>1</td>\n",
       "      <td>4</td>\n",
       "      <td>2</td>\n",
       "      <td>2</td>\n",
       "      <td>1</td>\n",
       "      <td>2</td>\n",
       "      <td>19</td>\n",
       "      <td>2024-11-11</td>\n",
       "      <td>2024-11-11</td>\n",
       "      <td>0.0</td>\n",
       "      <td>1.0</td>\n",
       "    </tr>\n",
       "  </tbody>\n",
       "</table>\n",
       "<p>424170 rows × 20 columns</p>\n",
       "</div>"
      ],
      "text/plain": [
       "        user_id sex                      job       carrier marital_status  \\\n",
       "0        376517   M   Thực tập sinh giáo dục         other        Married   \n",
       "1        234512   F                  unknown  vietnamobile        Married   \n",
       "2        344532   F          DevOps Engineer         other        Married   \n",
       "3        186135   F   Thực tập sinh giáo dục  vietnamobile        Married   \n",
       "4         30230   F          DevOps Engineer       viettel        Married   \n",
       "...         ...  ..                      ...           ...            ...   \n",
       "424165   395814   M    Kiến trúc sư phần mềm     vinaphone        Married   \n",
       "424166   245950   M        Tư vấn khách hàng         other       Divorced   \n",
       "424167   208016   F  Trưởng phòng kinh doanh       viettel        Married   \n",
       "424168   272535   M                  Dược sĩ     vinaphone        Married   \n",
       "424169    18031   M                  Dược sĩ     vinaphone         Single   \n",
       "\n",
       "       age_range  num_add_to_cart  num_clicks  num_favourites  num_purchases  \\\n",
       "0          36-60                0          73               1              5   \n",
       "1          36-60                0          47               2              7   \n",
       "2          36-60                0          64              19              8   \n",
       "3          36-60                0         193               5              2   \n",
       "4          36-60                0          29               0              3   \n",
       "...          ...              ...         ...             ...            ...   \n",
       "424165     18-26                0          61               3              1   \n",
       "424166     27-30                0          27               0              6   \n",
       "424167     36-60                0          52               0              2   \n",
       "424168     36-60                0          35               0              3   \n",
       "424169     18-26                0          18               0              1   \n",
       "\n",
       "        num_unique_items  num_unique_cats  num_unique_brands  \\\n",
       "0                     39               17                 20   \n",
       "1                     29               18                 20   \n",
       "2                     54               25                 21   \n",
       "3                     21               11                 10   \n",
       "4                     24               13                 14   \n",
       "...                  ...              ...                ...   \n",
       "424165                40                6                 20   \n",
       "424166                14               11                  6   \n",
       "424167                27                3                  7   \n",
       "424168                16                7                 13   \n",
       "424169                 4                2                  2   \n",
       "\n",
       "        num_unique_merchants  num_active_days  action   datetime  \\\n",
       "0                         20                6      79 2024-11-11   \n",
       "1                         21                7      56 2024-11-11   \n",
       "2                         20                7      91 2024-11-11   \n",
       "3                         11                5     200 2024-11-11   \n",
       "4                         14                5      32 2024-11-11   \n",
       "...                      ...              ...     ...        ...   \n",
       "424165                    20                2      65 2024-11-11   \n",
       "424166                     5                2      33 2024-11-11   \n",
       "424167                     7                2      54 2024-11-11   \n",
       "424168                    13                2      38 2024-11-11   \n",
       "424169                     1                2      19 2024-11-11   \n",
       "\n",
       "       last_purchase_date  Recency  frequency  \n",
       "0              2024-11-11      0.0        5.0  \n",
       "1              2024-11-11      0.0        7.0  \n",
       "2              2024-11-11      0.0        8.0  \n",
       "3              2024-11-11      0.0        2.0  \n",
       "4              2024-11-11      0.0        3.0  \n",
       "...                   ...      ...        ...  \n",
       "424165         2024-11-11      0.0        1.0  \n",
       "424166         2024-11-11      0.0        6.0  \n",
       "424167         2024-11-11      0.0        2.0  \n",
       "424168         2024-11-11      0.0        3.0  \n",
       "424169         2024-11-11      0.0        1.0  \n",
       "\n",
       "[424170 rows x 20 columns]"
      ]
     },
     "execution_count": 94,
     "metadata": {},
     "output_type": "execute_result"
    }
   ],
   "source": [
    "user_behavior"
   ]
  },
  {
   "cell_type": "markdown",
   "metadata": {},
   "source": [
    "This code visualizes the total number of user interactions grouped by age range and sex using a bar chart. It sums the frequencies for each age-sex group, then plots these totals with clear labels and a legend for easy comparison."
   ]
  },
  {
   "cell_type": "code",
   "execution_count": null,
   "metadata": {},
   "outputs": [
    {
     "data": {
      "image/png": "[encoded data removed]",
      "text/plain": [
       "<Figure size 1200x600 with 1 Axes>"
      ]
     },
     "metadata": {},
     "output_type": "display_data"
    }
   ],
   "source": [
    "\n",
    "freq_sum = user_behavior.groupby(['age_range', 'sex'])['frequency'].sum().reset_index()\n",
    "\n",
    "plt.figure(figsize=(12,6))\n",
    "sns.barplot(data=freq_sum, x='age_range', y='frequency', hue='sex', palette='Reds')\n",
    "\n",
    "plt.title('Total Interaction Frequency by Age Range and Sex', fontsize=16)\n",
    "plt.xlabel('Age Range', fontsize=12)\n",
    "plt.ylabel('Total Frequency', fontsize=12)\n",
    "plt.xticks(rotation=45)\n",
    "plt.legend(title='Sex')\n",
    "plt.tight_layout()\n",
    "plt.show()"
   ]
  }
 ],
 "metadata": {
  "kaggle": {
   "accelerator": "none",
   "dataSources": [
    {
     "datasetId": 7491520,
     "sourceId": 11916710,
     "sourceType": "datasetVersion"
    }
   ],
   "dockerImageVersionId": 31040,
   "isGpuEnabled": false,
   "isInternetEnabled": false,
   "language": "python",
   "sourceType": "notebook"
  },
  "kernelspec": {
   "display_name": "Python 3",
   "language": "python",
   "name": "python3"
  },
  "language_info": {
   "codemirror_mode": {
    "name": "ipython",
    "version": 3
   },
   "file_extension": ".py",
   "mimetype": "text/x-python",
   "name": "python",
   "nbconvert_exporter": "python",
   "pygments_lexer": "ipython3",
   "version": "3.13.3"
  }
 },
 "nbformat": 4,
 "nbformat_minor": 4
}
